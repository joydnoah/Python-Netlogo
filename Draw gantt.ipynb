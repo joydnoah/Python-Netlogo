{
 "cells": [
  {
   "cell_type": "markdown",
   "metadata": {},
   "source": [
    "Configuracion previa de las librerias necesarias."
   ]
  },
  {
   "cell_type": "code",
   "execution_count": 1,
   "metadata": {
    "scrolled": true
   },
   "outputs": [],
   "source": [
    "from test_gantt import draw_gantt\n",
    "import argparse\n",
    "import configparser\n",
    "import sys\n",
    "from NetlogoUtils import Python_Netlogo_Connection"
   ]
  },
  {
   "cell_type": "markdown",
   "metadata": {},
   "source": [
    "Configuracion de los parametros del experimento:"
   ]
  },
  {
   "cell_type": "code",
   "execution_count": 2,
   "metadata": {
    "scrolled": false
   },
   "outputs": [],
   "source": [
    "params = {\n",
    "    \"client_order_txt\": \"simu_order.txt\",\n",
    "    \"client_product_txt\": \"prod.txt\",\n",
    "    \"dispatch_method\": \"bio\",\n",
    "    \"scenario\": \"no scenario\",\n",
    "    \"layout\": \"Partial Flex\",\n",
    "    \"document_uri\": \"C:\\\\Users\\\\user\\\\Desktop\\\\Proyecto sergio\\\\actual\\\\EstudioCodigoL.nlogo\",\n",
    "    \"shuttles\": \"3\",\n",
    "    \"shuttles_selection\": \"AGV\",\n",
    "    \"pot_field_input\": \"[3.3333 100 300 50 0.9 180]\",\n",
    "    \"bio_input\": \"[300 50 1.5 100 0.5]\",\n",
    "    \"GanttM\": \"true\",\n",
    "    \"gantt_shuttles\": \"C:\\\\Users\\\\user\\\\Desktop\\\\Proyecto sergio\\\\actual\\\\shuttle_estudio.txt\",\n",
    "    \"gantt_machines\": \"C:\\\\Users\\\\user\\\\Desktop\\\\Proyecto sergio\\\\actual\\\\trace_estudio.txt\",\n",
    "    \"setpoint\": 0.8,\n",
    "    \"range\": 0.1\n",
    "}"
   ]
  },
  {
   "cell_type": "markdown",
   "metadata": {},
   "source": [
    "Inicio del experimento:"
   ]
  },
  {
   "cell_type": "code",
   "execution_count": 3,
   "metadata": {
    "scrolled": true
   },
   "outputs": [
    {
     "name": "stdout",
     "output_type": "stream",
     "text": [
      "Time0.9999999999999999\n",
      "running...\n",
      "Time2.0000000000000004\n",
      "running...\n",
      "Time3.0000000000000013\n",
      "running...\n",
      "Time4.000000000000002\n",
      "running...\n",
      "Time4.999999999999998\n",
      "running...\n",
      "Time5.999999999999995\n",
      "running...\n",
      "Time6.999999999999991\n",
      "running...\n",
      "Time7.999999999999988\n",
      "running...\n",
      "Time8.999999999999984\n",
      "running...\n",
      "Time9.99999999999998\n",
      "running...\n",
      "Time10.999999999999977\n",
      "running...\n",
      "Time11.999999999999973\n",
      "running...\n",
      "Time12.99999999999997\n",
      "running...\n",
      "Time13.999999999999966\n",
      "running...\n",
      "Time14.999999999999963\n",
      "running...\n",
      "Time15.99999999999996\n",
      "running...\n",
      "Time16.99999999999997\n",
      "running...\n",
      "Time17.999999999999986\n",
      "running...\n",
      "Time19.0\n",
      "running...\n",
      "Time20.000000000000014\n",
      "running...\n",
      "Time21.00000000000003\n",
      "running...\n",
      "Time22.000000000000043\n",
      "running...\n",
      "Time23.000000000000057\n",
      "running...\n",
      "Time24.00000000000007\n",
      "running...\n",
      "Time25.000000000000085\n",
      "running...\n",
      "Time26.0000000000001\n",
      "running...\n",
      "Time27.000000000000114\n",
      "running...\n",
      "Time28.000000000000128\n",
      "running...\n",
      "Time29.000000000000142\n",
      "running...\n",
      "Time30.000000000000156\n",
      "running...\n",
      "Time31.00000000000017\n",
      "running...\n",
      "Time32.000000000000185\n",
      "running...\n",
      "Time33.0000000000002\n",
      "running...\n",
      "Time34.00000000000021\n",
      "running...\n",
      "Time35.00000000000023\n",
      "running...\n",
      "Time36.00000000000024\n",
      "running...\n",
      "Time37.000000000000256\n",
      "running...\n",
      "Time38.00000000000027\n",
      "running...\n",
      "Time39.000000000000284\n",
      "running...\n",
      "Time40.0000000000003\n",
      "running...\n",
      "Time41.00000000000031\n",
      "running...\n",
      "Time42.00000000000033\n",
      "running...\n",
      "Time43.00000000000034\n",
      "running...\n",
      "Time44.000000000000355\n",
      "running...\n",
      "Time45.00000000000037\n",
      "running...\n",
      "Time46.000000000000384\n",
      "running...\n",
      "Time47.0000000000004\n",
      "running...\n",
      "Time48.00000000000041\n",
      "running...\n",
      "Time49.000000000000426\n",
      "running...\n",
      "Time50.00000000000044\n",
      "running...\n",
      "Time51.000000000000455\n",
      "running...\n",
      "Time52.00000000000047\n",
      "running...\n",
      "Time53.00000000000048\n",
      "running...\n",
      "Time54.0000000000005\n",
      "running...\n",
      "Time55.00000000000051\n",
      "running...\n",
      "Time56.000000000000526\n",
      "running...\n",
      "Time57.00000000000054\n",
      "running...\n",
      "Time58.000000000000554\n",
      "running...\n",
      "Time59.00000000000057\n",
      "running...\n",
      "Time60.00000000000058\n",
      "running...\n",
      "Time61.0000000000006\n",
      "running...\n",
      "Time62.00000000000061\n",
      "running...\n",
      "Time63.000000000000625\n",
      "running...\n",
      "Time64.00000000000064\n",
      "running...\n",
      "Time65.00000000000058\n",
      "running...\n",
      "Time66.00000000000053\n",
      "running...\n",
      "Time67.00000000000047\n",
      "running...\n",
      "Time68.00000000000041\n",
      "running...\n",
      "Time69.00000000000036\n",
      "running...\n",
      "Time70.0000000000003\n",
      "running...\n",
      "Time71.00000000000024\n",
      "running...\n",
      "Time72.00000000000018\n",
      "running...\n",
      "Time73.00000000000013\n",
      "running...\n",
      "Time74.00000000000007\n",
      "running...\n",
      "Time75.00000000000001\n",
      "running...\n",
      "Time75.99999999999996\n",
      "running...\n",
      "Time76.9999999999999\n",
      "running...\n",
      "Time77.99999999999984\n",
      "running...\n",
      "Time78.99999999999979\n",
      "running...\n",
      "Time79.99999999999973\n",
      "running...\n",
      "Time80.99999999999967\n",
      "running...\n",
      "Time81.99999999999962\n",
      "running...\n",
      "Time82.99999999999956\n",
      "running...\n",
      "Time83.9999999999995\n",
      "running...\n",
      "Time84.99999999999945\n",
      "running...\n",
      "Time85.99999999999939\n",
      "running...\n",
      "Time86.99999999999933\n",
      "running...\n",
      "Time87.99999999999928\n",
      "running...\n",
      "Time88.99999999999922\n",
      "running...\n",
      "Time89.99999999999916\n",
      "running...\n",
      "Time90.9999999999991\n",
      "running...\n",
      "Time91.99999999999905\n",
      "running...\n",
      "Time92.99999999999899\n",
      "running...\n",
      "Time93.99999999999893\n",
      "running...\n",
      "Time94.99999999999888\n",
      "running...\n",
      "Time95.99999999999882\n",
      "running...\n",
      "Time96.99999999999876\n",
      "running...\n",
      "Time97.9999999999987\n",
      "running...\n",
      "Time98.99999999999865\n",
      "running...\n",
      "Time99.9999999999986\n",
      "running...\n",
      "Time100.99999999999854\n",
      "running...\n",
      "Time101.99999999999848\n",
      "running...\n",
      "Time102.99999999999842\n",
      "running...\n",
      "Time103.99999999999837\n",
      "running...\n",
      "Time104.99999999999831\n",
      "running...\n",
      "Time105.99999999999825\n",
      "running...\n",
      "Time106.9999999999982\n",
      "running...\n",
      "Time107.99999999999814\n",
      "running...\n",
      "Time108.99999999999808\n",
      "running...\n",
      "Time109.99999999999802\n",
      "running...\n",
      "Time110.99999999999797\n",
      "running...\n",
      "Time111.99999999999791\n",
      "running...\n",
      "Time112.99999999999785\n",
      "running...\n",
      "Time113.9999999999978\n",
      "running...\n",
      "Time114.99999999999774\n",
      "running...\n",
      "Time115.99999999999768\n",
      "running...\n",
      "Time116.99999999999763\n",
      "running...\n",
      "Time117.99999999999757\n",
      "running...\n",
      "Time118.99999999999751\n",
      "running...\n",
      "Time119.99999999999746\n",
      "running...\n",
      "Time120.9999999999974\n",
      "running...\n",
      "Time121.99999999999734\n",
      "running...\n",
      "Time122.99999999999729\n",
      "running...\n",
      "Time123.99999999999723\n",
      "running...\n",
      "Time124.99999999999717\n",
      "running...\n",
      "Time125.99999999999712\n",
      "running...\n",
      "Time126.99999999999706\n",
      "running...\n",
      "Time127.999999999997\n",
      "running...\n",
      "Time128.99999999999696\n",
      "running...\n",
      "Time129.9999999999969\n",
      "running...\n",
      "Time130.99999999999685\n",
      "running...\n",
      "Time131.9999999999968\n",
      "running...\n",
      "Time132.99999999999673\n",
      "running...\n",
      "Time133.99999999999667\n",
      "running...\n",
      "Time134.99999999999662\n",
      "running...\n",
      "Time135.99999999999656\n",
      "running...\n",
      "Time136.9999999999965\n",
      "running...\n",
      "Time137.99999999999645\n",
      "running...\n",
      "Time138.9999999999964\n",
      "running...\n",
      "Time139.99999999999633\n",
      "running...\n",
      "Time140.99999999999628\n",
      "running...\n",
      "Time141.99999999999622\n",
      "running...\n",
      "Time142.99999999999616\n",
      "running...\n",
      "Time143.9999999999961\n",
      "running...\n",
      "Time144.99999999999605\n",
      "running...\n",
      "Time145.999999999996\n",
      "running...\n",
      "Time146.99999999999594\n",
      "running...\n",
      "Time147.99999999999588\n",
      "running...\n",
      "Time148.99999999999582\n",
      "running...\n",
      "Time149.99999999999577\n",
      "running...\n",
      "Time150.9999999999957\n",
      "running...\n",
      "Time151.99999999999565\n",
      "running...\n",
      "Time152.9999999999956\n",
      "running...\n",
      "Time153.99999999999554\n",
      "running...\n",
      "Time154.99999999999548\n",
      "running...\n",
      "Time155.99999999999542\n",
      "running...\n",
      "Time156.99999999999537\n",
      "running...\n",
      "Time157.9999999999953\n",
      "running...\n",
      "Time158.99999999999525\n",
      "running...\n",
      "Time159.9999999999952\n",
      "running...\n",
      "Time160.99999999999514\n",
      "running...\n",
      "Time161.99999999999508\n",
      "running...\n",
      "Time162.99999999999503\n",
      "running...\n",
      "Time163.99999999999497\n",
      "running...\n",
      "Time164.9999999999949\n",
      "running...\n",
      "Time165.99999999999486\n",
      "running...\n",
      "Time166.9999999999948\n",
      "running...\n",
      "Time167.99999999999474\n",
      "running...\n",
      "Time168.99999999999469\n",
      "running...\n",
      "Time169.99999999999463\n",
      "running...\n",
      "Time170.99999999999457\n",
      "running...\n",
      "Time171.99999999999451\n",
      "running...\n",
      "Time172.99999999999446\n",
      "running...\n",
      "Time173.9999999999944\n",
      "running...\n",
      "Time174.99999999999434\n",
      "running...\n",
      "Time175.9999999999943\n",
      "running...\n",
      "Time176.99999999999423\n",
      "running...\n",
      "Time177.99999999999417\n",
      "running...\n",
      "Time178.99999999999412\n",
      "running...\n",
      "Time179.99999999999406\n",
      "running...\n",
      "Time180.999999999994\n",
      "running...\n",
      "Time181.99999999999395\n",
      "running...\n",
      "Time182.9999999999939\n",
      "running...\n",
      "Time183.99999999999383\n",
      "running...\n",
      "Time184.99999999999378\n",
      "running...\n",
      "Time185.99999999999372\n",
      "running...\n",
      "Time186.99999999999366\n",
      "running...\n",
      "Time187.9999999999936\n",
      "running...\n",
      "Time188.99999999999355\n",
      "running...\n",
      "Time189.9999999999935\n",
      "running...\n",
      "Time190.99999999999343\n",
      "running...\n",
      "Time191.99999999999338\n",
      "running...\n",
      "Time192.99999999999332\n",
      "running...\n",
      "Time193.99999999999326\n",
      "running...\n",
      "Time194.9999999999932\n",
      "running...\n",
      "Time195.99999999999315\n",
      "running...\n",
      "Time196.9999999999931\n",
      "running...\n",
      "Time197.99999999999304\n",
      "running...\n",
      "Time198.99999999999298\n",
      "running...\n",
      "Time199.99999999999292\n",
      "running...\n",
      "Time200.99999999999287\n",
      "running...\n",
      "Time201.9999999999928\n",
      "running...\n",
      "Time202.99999999999275\n",
      "running...\n",
      "Time203.9999999999927\n",
      "running...\n",
      "Time204.99999999999264\n",
      "running...\n",
      "Time205.99999999999258\n",
      "running...\n",
      "Time206.99999999999253\n",
      "running...\n",
      "Time207.99999999999247\n",
      "running...\n",
      "Time208.9999999999924\n",
      "running...\n",
      "Time209.99999999999235\n",
      "running...\n",
      "Time210.9999999999923\n",
      "running...\n",
      "Time211.99999999999224\n",
      "running...\n",
      "Time212.99999999999218\n",
      "running...\n",
      "Time213.99999999999213\n",
      "running...\n",
      "Time214.99999999999207\n",
      "running...\n",
      "Time215.999999999992\n",
      "running...\n",
      "Time216.99999999999196\n",
      "running...\n",
      "Time217.9999999999919\n",
      "running...\n",
      "Time218.99999999999184\n",
      "running...\n",
      "Time219.9999999999918\n",
      "running...\n",
      "Time220.99999999999173\n",
      "running...\n",
      "Time221.99999999999167\n",
      "running...\n",
      "Time222.99999999999162\n",
      "running...\n",
      "Time223.99999999999156\n",
      "running...\n",
      "Time224.9999999999915\n",
      "running...\n",
      "Time225.99999999999145\n",
      "running...\n",
      "Time226.9999999999914\n",
      "running...\n",
      "Time227.99999999999133\n",
      "running...\n",
      "Time228.99999999999127\n",
      "running...\n",
      "Time229.99999999999122\n",
      "running...\n",
      "Time230.99999999999116\n",
      "running...\n",
      "Time231.9999999999911\n",
      "running...\n",
      "Time232.99999999999105\n",
      "running...\n",
      "Time233.999999999991\n",
      "running...\n",
      "Time234.99999999999093\n",
      "running...\n",
      "Time235.99999999999088\n",
      "running...\n",
      "Time236.99999999999082\n",
      "running...\n",
      "Time237.99999999999076\n",
      "running...\n",
      "Time238.9999999999907\n",
      "running...\n",
      "Time239.99999999999065\n",
      "running...\n",
      "Time240.9999999999906\n",
      "running...\n",
      "Time241.99999999999054\n",
      "running...\n",
      "Time242.99999999999048\n",
      "running...\n",
      "Time243.99999999999042\n",
      "running...\n",
      "Time244.99999999999037\n",
      "running...\n",
      "Time245.9999999999903\n",
      "running...\n",
      "Time246.99999999999025\n",
      "running...\n",
      "Time247.9999999999902\n",
      "running...\n"
     ]
    },
    {
     "name": "stdout",
     "output_type": "stream",
     "text": [
      "Time248.99999999999014\n",
      "running...\n",
      "Time249.99999999999008\n",
      "running...\n",
      "Time250.99999999999002\n",
      "running...\n",
      "Time251.99999999998997\n",
      "running...\n",
      "Time252.9999999999899\n",
      "running...\n",
      "Time253.99999999998985\n",
      "running...\n",
      "Time254.9999999999898\n",
      "running...\n",
      "Time255.99999999998974\n",
      "running...\n",
      "Time256.99999999998994\n",
      "running...\n",
      "Time257.99999999999017\n",
      "running...\n",
      "Time258.9999999999904\n",
      "running...\n",
      "Time259.9999999999906\n",
      "running...\n",
      "Time260.99999999999085\n",
      "running...\n",
      "Time261.9999999999911\n",
      "running...\n",
      "Time262.9999999999913\n",
      "running...\n",
      "Time263.99999999999153\n",
      "running...\n",
      "Time264.99999999999176\n",
      "running...\n",
      "Time265.999999999992\n",
      "running...\n",
      "Time266.9999999999922\n",
      "running...\n",
      "Time267.99999999999244\n",
      "running...\n",
      "Time268.99999999999267\n",
      "running...\n",
      "Time269.9999999999929\n",
      "running...\n",
      "Time270.9999999999931\n",
      "running...\n",
      "Time271.99999999999335\n",
      "running...\n",
      "Time272.9999999999936\n",
      "running...\n",
      "Time273.9999999999938\n",
      "running...\n",
      "Time274.99999999999403\n",
      "running...\n",
      "Time275.99999999999426\n",
      "running...\n",
      "Time276.9999999999945\n",
      "running...\n",
      "Time277.9999999999947\n",
      "running...\n",
      "Time278.99999999999494\n",
      "running...\n",
      "Time279.99999999999517\n",
      "running...\n",
      "Time280.9999999999954\n",
      "running...\n",
      "Time281.9999999999956\n",
      "running...\n",
      "Time282.99999999999585\n",
      "running...\n",
      "Time283.9999999999961\n",
      "running...\n",
      "Time284.9999999999963\n",
      "running...\n",
      "Time285.99999999999653\n",
      "running...\n",
      "Time286.99999999999676\n",
      "running...\n",
      "Time287.999999999997\n",
      "running...\n",
      "Time288.9999999999972\n",
      "running...\n",
      "Time289.99999999999744\n",
      "running...\n",
      "Time290.99999999999767\n",
      "running...\n",
      "Time291.9999999999979\n",
      "running...\n",
      "Time292.9999999999981\n",
      "running...\n",
      "Time293.99999999999835\n",
      "running...\n",
      "Time294.9999999999986\n",
      "running...\n",
      "Time295.9999999999988\n",
      "running...\n",
      "Time296.99999999999903\n",
      "running...\n",
      "Time297.99999999999926\n",
      "running...\n",
      "Time298.9999999999995\n",
      "running...\n",
      "Time299.9999999999997\n",
      "running...\n",
      "Time300.99999999999994\n",
      "running...\n",
      "Time302.00000000000017\n",
      "running...\n",
      "Time303.0000000000004\n",
      "running...\n",
      "Time304.0000000000006\n",
      "running...\n",
      "Time305.00000000000085\n",
      "running...\n",
      "Time306.0000000000011\n",
      "running...\n",
      "Time307.0000000000013\n",
      "running...\n",
      "Time308.00000000000153\n",
      "running...\n",
      "Time309.00000000000176\n",
      "running...\n",
      "Time310.000000000002\n",
      "running...\n",
      "Time311.0000000000022\n",
      "running...\n",
      "Time312.00000000000244\n",
      "running...\n",
      "Time313.0000000000027\n",
      "running...\n",
      "Time314.0000000000029\n",
      "running...\n",
      "Time315.0000000000031\n",
      "running...\n",
      "Time316.00000000000335\n",
      "running...\n",
      "Time317.0000000000036\n",
      "running...\n",
      "Time318.0000000000038\n",
      "running...\n",
      "Time319.00000000000404\n",
      "running...\n",
      "Time320.00000000000426\n",
      "running...\n",
      "Time321.0000000000045\n",
      "running...\n",
      "Time322.0000000000047\n",
      "running...\n",
      "Time323.00000000000495\n",
      "running...\n",
      "Time324.0000000000052\n",
      "running...\n",
      "Time325.0000000000054\n",
      "running...\n",
      "Time326.0000000000056\n",
      "running...\n",
      "Time327.00000000000585\n",
      "running...\n",
      "Time328.0000000000061\n",
      "running...\n",
      "Time329.0000000000063\n",
      "running...\n",
      "Time330.00000000000654\n",
      "running...\n",
      "Time331.00000000000676\n",
      "running...\n",
      "Time332.000000000007\n",
      "running...\n",
      "Time333.0000000000072\n",
      "running...\n",
      "Time334.00000000000745\n",
      "running...\n",
      "Time335.0000000000077\n",
      "running...\n",
      "Time336.0000000000079\n",
      "running...\n",
      "Time337.00000000000813\n",
      "running...\n",
      "Time338.00000000000836\n",
      "running...\n",
      "Time339.0000000000086\n",
      "running...\n",
      "Time340.0000000000088\n",
      "running...\n",
      "Time341.00000000000904\n",
      "running...\n",
      "Time342.00000000000927\n",
      "running...\n",
      "Time343.0000000000095\n",
      "running...\n",
      "Time344.0000000000097\n",
      "running...\n",
      "Time345.00000000000995\n",
      "running...\n",
      "Time346.0000000000102\n",
      "running...\n",
      "Time347.0000000000104\n",
      "running...\n",
      "Time348.00000000001063\n",
      "running...\n",
      "Time349.00000000001086\n",
      "running...\n",
      "Time350.0000000000111\n",
      "running...\n",
      "Time351.0000000000113\n",
      "running...\n",
      "Time352.00000000001154\n",
      "running...\n",
      "Time353.00000000001177\n",
      "running...\n",
      "Time354.000000000012\n",
      "running...\n",
      "Time355.0000000000122\n",
      "running...\n",
      "Time356.00000000001245\n",
      "running...\n",
      "Time357.0000000000127\n",
      "running...\n",
      "Time358.0000000000129\n",
      "running...\n",
      "Time359.00000000001313\n",
      "running...\n",
      "Time360.00000000001336\n",
      "running...\n",
      "Time361.0000000000136\n",
      "running...\n",
      "Time362.0000000000138\n",
      "running...\n",
      "Time363.00000000001404\n",
      "running...\n",
      "Time364.00000000001427\n",
      "running...\n",
      "Time365.0000000000145\n",
      "running...\n",
      "Time366.0000000000147\n",
      "running...\n",
      "Time367.00000000001495\n",
      "running...\n",
      "Time368.0000000000152\n",
      "running...\n",
      "Time369.0000000000154\n",
      "running...\n",
      "Time370.00000000001563\n",
      "running...\n",
      "Time371.00000000001586\n",
      "running...\n",
      "Time372.0000000000161\n",
      "running...\n",
      "Time373.0000000000163\n",
      "running...\n",
      "Time374.00000000001654\n",
      "running...\n",
      "Time375.00000000001677\n",
      "running...\n",
      "Time376.000000000017\n",
      "running...\n",
      "Time377.0000000000172\n",
      "running...\n",
      "Time378.00000000001745\n",
      "running...\n",
      "Time379.0000000000177\n",
      "running...\n",
      "Time380.0000000000179\n",
      "running...\n",
      "Time381.00000000001813\n",
      "running...\n",
      "Time382.00000000001836\n",
      "running...\n",
      "Time383.0000000000186\n",
      "running...\n",
      "Time384.0000000000188\n",
      "running...\n",
      "Time385.00000000001904\n",
      "running...\n",
      "Time386.00000000001927\n",
      "running...\n",
      "Time387.0000000000195\n",
      "running...\n",
      "Time388.0000000000197\n",
      "running...\n",
      "Time389.00000000001995\n",
      "running...\n",
      "Time390.0000000000202\n",
      "running...\n",
      "Time391.0000000000204\n",
      "running...\n",
      "Time392.00000000002063\n",
      "running...\n",
      "Time393.00000000002086\n",
      "running...\n",
      "Time394.0000000000211\n",
      "running...\n",
      "Time395.0000000000213\n",
      "running...\n",
      "Time396.00000000002154\n",
      "running...\n",
      "Time397.00000000002177\n",
      "running...\n",
      "Time398.000000000022\n",
      "running...\n",
      "Time399.0000000000222\n",
      "running...\n",
      "Time400.00000000002245\n",
      "running...\n",
      "Time401.0000000000227\n",
      "running...\n",
      "Time402.0000000000229\n",
      "running...\n",
      "Time403.00000000002314\n",
      "running...\n",
      "Time404.00000000002336\n",
      "running...\n",
      "Time405.0000000000236\n",
      "running...\n",
      "Time406.0000000000238\n",
      "running...\n",
      "Time407.00000000002404\n",
      "running...\n",
      "Time408.0000000000243\n",
      "running...\n",
      "Time409.0000000000245\n",
      "running...\n",
      "Time410.0000000000247\n",
      "running...\n",
      "Time411.00000000002495\n",
      "running...\n",
      "Time412.0000000000252\n",
      "running...\n",
      "Time413.0000000000254\n",
      "running...\n",
      "Time414.00000000002564\n",
      "running...\n",
      "Time415.00000000002586\n",
      "running...\n",
      "Time416.0000000000261\n",
      "running...\n",
      "Time417.0000000000263\n",
      "running...\n",
      "Time418.00000000002655\n",
      "running...\n",
      "Time419.0000000000268\n",
      "running...\n",
      "Time420.000000000027\n",
      "running...\n",
      "Time421.0000000000272\n",
      "running...\n",
      "Time422.00000000002746\n",
      "running...\n",
      "Time423.0000000000277\n",
      "running...\n",
      "Time424.0000000000279\n",
      "running...\n",
      "Time425.00000000002814\n",
      "running...\n",
      "Time426.00000000002836\n",
      "running...\n",
      "Time427.0000000000286\n",
      "running...\n",
      "Time428.0000000000288\n",
      "running...\n",
      "Time429.00000000002905\n",
      "running...\n",
      "Time430.0000000000293\n",
      "running...\n",
      "Time431.0000000000295\n",
      "running...\n",
      "Time432.00000000002973\n",
      "running...\n",
      "Time433.00000000002996\n",
      "running...\n",
      "Time434.0000000000302\n",
      "running...\n",
      "Time435.0000000000304\n",
      "running...\n",
      "Time436.00000000003064\n",
      "running...\n",
      "Time437.00000000003087\n",
      "running...\n",
      "Time438.0000000000311\n",
      "running...\n",
      "Time439.0000000000313\n",
      "running...\n",
      "Time440.00000000003155\n",
      "running...\n",
      "Time441.0000000000318\n",
      "running...\n",
      "Time442.000000000032\n",
      "running...\n",
      "Time443.00000000003223\n",
      "running...\n",
      "Time444.00000000003246\n",
      "running...\n",
      "Time445.0000000000327\n",
      "running...\n",
      "Time446.0000000000329\n",
      "running...\n",
      "Time447.00000000003314\n",
      "running...\n",
      "Time448.00000000003337\n",
      "running...\n",
      "Time449.0000000000336\n",
      "running...\n",
      "Time450.0000000000338\n",
      "running...\n",
      "Time451.00000000003405\n",
      "running...\n",
      "Time452.0000000000343\n",
      "running...\n",
      "Time453.0000000000345\n",
      "running...\n",
      "Time454.00000000003473\n",
      "running...\n",
      "Time455.00000000003496\n",
      "running...\n",
      "Time456.0000000000352\n",
      "running...\n",
      "Time457.0000000000354\n",
      "running...\n",
      "Time458.00000000003564\n",
      "running...\n",
      "Time459.00000000003587\n",
      "running...\n",
      "Time460.0000000000361\n",
      "running...\n",
      "Time461.0000000000363\n",
      "running...\n",
      "Time462.00000000003655\n",
      "running...\n",
      "Time463.0000000000368\n",
      "running...\n",
      "Time464.000000000037\n",
      "running...\n",
      "Time465.00000000003723\n",
      "running...\n",
      "Time466.00000000003746\n",
      "running...\n",
      "Time467.0000000000377\n",
      "running...\n",
      "Time468.0000000000379\n",
      "running...\n",
      "Time469.00000000003814\n",
      "running...\n",
      "Time470.00000000003837\n",
      "running...\n",
      "Time471.0000000000386\n",
      "running...\n",
      "Time472.0000000000388\n",
      "running...\n",
      "Time473.00000000003905\n",
      "running...\n",
      "Time474.0000000000393\n",
      "running...\n",
      "Time475.0000000000395\n",
      "running...\n",
      "Time476.00000000003973\n",
      "running...\n",
      "Time477.00000000003996\n",
      "running...\n",
      "Time478.0000000000402\n",
      "running...\n",
      "Time479.0000000000404\n",
      "running...\n",
      "Time480.00000000004064\n",
      "running...\n",
      "Time481.00000000004087\n",
      "running...\n",
      "Time482.0000000000411\n",
      "running...\n",
      "Time483.0000000000413\n",
      "running...\n",
      "Time484.00000000004155\n",
      "running...\n",
      "Time485.0000000000418\n",
      "running...\n",
      "Time486.000000000042\n",
      "running...\n",
      "Time487.00000000004223\n",
      "running...\n",
      "Time488.00000000004246\n",
      "running...\n",
      "Time489.0000000000427\n",
      "running...\n",
      "Time490.0000000000429\n",
      "running...\n",
      "Time491.00000000004314\n",
      "running...\n",
      "Time492.00000000004337\n",
      "running...\n",
      "Time493.0000000000436\n",
      "running...\n",
      "Time494.0000000000438\n",
      "running...\n",
      "Time495.00000000004405\n",
      "running...\n"
     ]
    },
    {
     "name": "stdout",
     "output_type": "stream",
     "text": [
      "Time496.0000000000443\n",
      "running...\n",
      "Time497.0000000000445\n",
      "running...\n",
      "Time498.00000000004474\n",
      "running...\n",
      "Time499.00000000004496\n",
      "running...\n",
      "Time500.0000000000452\n",
      "running...\n",
      "Time501.0000000000454\n",
      "running...\n",
      "Time502.00000000004565\n",
      "running...\n",
      "Time503.0000000000459\n",
      "running...\n",
      "Time504.0000000000461\n",
      "running...\n",
      "Time505.0000000000463\n",
      "running...\n",
      "Time506.00000000004655\n",
      "running...\n",
      "Time507.0000000000468\n",
      "running...\n",
      "Time508.000000000047\n",
      "running...\n",
      "Time509.00000000004724\n",
      "running...\n",
      "Time510.00000000004746\n",
      "running...\n",
      "Time511.0000000000477\n",
      "running...\n",
      "Time512.0000000000479\n",
      "running...\n",
      "Time513.0000000000481\n",
      "running...\n",
      "Time514.0000000000483\n",
      "running...\n",
      "Time515.0000000000485\n",
      "running...\n",
      "Time516.0000000000488\n",
      "running...\n",
      "Time517.000000000049\n",
      "running...\n",
      "Time518.0000000000492\n",
      "running...\n",
      "Time519.0000000000495\n",
      "running...\n",
      "Time520.0000000000497\n",
      "running...\n",
      "Time521.0000000000499\n",
      "running...\n",
      "Time522.0000000000501\n",
      "running...\n",
      "Time523.0000000000504\n",
      "running...\n",
      "Time524.0000000000506\n",
      "running...\n",
      "Time525.0000000000508\n",
      "running...\n",
      "Time526.000000000051\n",
      "running...\n",
      "Time527.0000000000513\n",
      "running...\n",
      "Time528.0000000000515\n",
      "running...\n",
      "Time529.0000000000517\n",
      "running...\n",
      "Time530.000000000052\n",
      "running...\n",
      "Time531.0000000000522\n",
      "running...\n",
      "Time532.0000000000524\n",
      "running...\n",
      "Time533.0000000000526\n",
      "running...\n",
      "Time534.0000000000529\n",
      "running...\n",
      "Time535.0000000000531\n",
      "running...\n",
      "Time536.0000000000533\n",
      "running...\n",
      "Time537.0000000000535\n",
      "running...\n",
      "Time538.0000000000538\n",
      "running...\n",
      "Time539.000000000054\n",
      "running...\n",
      "Time540.0000000000542\n",
      "running...\n",
      "Time541.0000000000545\n",
      "running...\n",
      "Time542.0000000000547\n",
      "running...\n",
      "Time543.0000000000549\n",
      "running...\n",
      "Time544.0000000000551\n",
      "running...\n",
      "Time545.0000000000554\n",
      "running...\n",
      "Time546.0000000000556\n",
      "running...\n",
      "Time547.0000000000558\n",
      "running...\n",
      "Time548.000000000056\n",
      "running...\n",
      "Time549.0000000000563\n",
      "running...\n",
      "Time550.0000000000565\n",
      "running...\n",
      "Time551.0000000000567\n",
      "running...\n",
      "Time552.000000000057\n",
      "running...\n",
      "Time553.0000000000572\n",
      "running...\n",
      "Time554.0000000000574\n",
      "running...\n",
      "Time555.0000000000576\n",
      "running...\n",
      "Time556.0000000000579\n",
      "running...\n",
      "Time557.0000000000581\n",
      "running...\n",
      "Time558.0000000000583\n",
      "running...\n",
      "Time559.0000000000585\n",
      "running...\n",
      "Time560.0000000000588\n",
      "running...\n",
      "Time561.000000000059\n",
      "running...\n",
      "Time562.0000000000592\n",
      "running...\n",
      "Time563.0000000000595\n",
      "running...\n",
      "Time564.0000000000597\n",
      "running...\n",
      "Time565.0000000000599\n",
      "running...\n",
      "Time566.0000000000601\n",
      "running...\n",
      "Time567.0000000000604\n",
      "running...\n",
      "Time568.0000000000606\n",
      "running...\n",
      "Time569.0000000000608\n",
      "running...\n",
      "Time570.000000000061\n",
      "running...\n",
      "Time571.0000000000613\n",
      "running...\n",
      "Time572.0000000000615\n",
      "running...\n",
      "Time573.0000000000617\n",
      "running...\n",
      "Time574.000000000062\n",
      "running...\n",
      "Time575.0000000000622\n",
      "running...\n",
      "Time576.0000000000624\n",
      "running...\n",
      "Time577.0000000000626\n",
      "running...\n",
      "Time578.0000000000629\n",
      "running...\n",
      "Time579.0000000000631\n",
      "running...\n",
      "Time580.0000000000633\n",
      "running...\n",
      "Time581.0000000000636\n",
      "running...\n",
      "Time582.0000000000638\n",
      "running...\n",
      "Time583.000000000064\n",
      "running...\n",
      "Time584.0000000000642\n",
      "running...\n",
      "Time585.0000000000645\n",
      "running...\n",
      "Time586.0000000000647\n",
      "running...\n",
      "Time587.0000000000649\n",
      "running...\n",
      "Time588.0000000000651\n",
      "running...\n",
      "Time589.0000000000654\n",
      "running...\n",
      "Time590.0000000000656\n",
      "running...\n",
      "Time591.0000000000658\n",
      "running...\n",
      "Time592.000000000066\n",
      "running...\n",
      "Time593.0000000000663\n",
      "running...\n",
      "Time594.0000000000665\n",
      "running...\n",
      "Time595.0000000000667\n",
      "running...\n",
      "Time596.000000000067\n",
      "running...\n",
      "Time597.0000000000672\n",
      "running...\n",
      "Time598.0000000000674\n",
      "running...\n",
      "Time599.0000000000676\n",
      "running...\n",
      "Time600.0000000000679\n",
      "running...\n",
      "Time601.0000000000681\n",
      "running...\n",
      "Time602.0000000000683\n",
      "running...\n",
      "Time603.0000000000686\n",
      "running...\n",
      "Time604.0000000000688\n",
      "running...\n",
      "Time605.000000000069\n",
      "running...\n",
      "Time606.0000000000692\n",
      "running...\n",
      "Time607.0000000000695\n",
      "running...\n",
      "Time608.0000000000697\n",
      "running...\n",
      "Time609.0000000000699\n",
      "running...\n",
      "Time610.0000000000701\n",
      "running...\n",
      "Time611.0000000000704\n",
      "running...\n",
      "Time612.0000000000706\n",
      "running...\n",
      "Time613.0000000000708\n",
      "running...\n",
      "Time614.000000000071\n",
      "running...\n",
      "Time615.0000000000713\n",
      "running...\n",
      "Time616.0000000000715\n",
      "running...\n",
      "Time617.0000000000717\n",
      "running...\n",
      "Time618.000000000072\n",
      "running...\n",
      "Time619.0000000000722\n",
      "running...\n",
      "Time620.0000000000724\n",
      "running...\n",
      "Time621.0000000000726\n",
      "running...\n",
      "Time622.0000000000729\n",
      "running...\n",
      "Time623.0000000000731\n",
      "running...\n",
      "Time624.0000000000733\n",
      "running...\n",
      "Time625.0000000000736\n",
      "running...\n",
      "Time626.0000000000738\n",
      "running...\n",
      "Time627.000000000074\n",
      "running...\n",
      "Time628.0000000000742\n",
      "running...\n",
      "Time629.0000000000745\n",
      "running...\n",
      "Time630.0000000000747\n",
      "running...\n",
      "Time631.0000000000749\n",
      "running...\n",
      "Time632.0000000000751\n",
      "running...\n",
      "Time633.0000000000754\n",
      "running...\n",
      "Time634.0000000000756\n",
      "running...\n",
      "Time635.0000000000758\n",
      "running...\n",
      "Time635.800000000076\n",
      "running...\n"
     ]
    },
    {
     "data": {
      "image/png": "[encoded data removed]",
      "text/plain": [
       "<matplotlib.figure.Figure at 0x1990d710>"
      ]
     },
     "metadata": {},
     "output_type": "display_data"
    },
    {
     "data": {
      "image/png": "[encoded data removed]",
      "text/plain": [
       "<matplotlib.figure.Figure at 0x1b941dd8>"
      ]
     },
     "metadata": {},
     "output_type": "display_data"
    },
    {
     "data": {
      "image/png": "[encoded data removed]",
      "text/plain": [
       "<matplotlib.figure.Figure at 0x1b998908>"
      ]
     },
     "metadata": {},
     "output_type": "display_data"
    },
    {
     "data": {
      "image/png": "[encoded data removed]",
      "text/plain": [
       "<matplotlib.figure.Figure at 0x1beb0cf8>"
      ]
     },
     "metadata": {},
     "output_type": "display_data"
    },
    {
     "data": {
      "image/png": "[encoded data removed]",
      "text/plain": [
       "<matplotlib.figure.Figure at 0x1c2086d8>"
      ]
     },
     "metadata": {},
     "output_type": "display_data"
    },
    {
     "data": {
      "image/png": "[encoded data removed]",
      "text/plain": [
       "<matplotlib.figure.Figure at 0x1c1f3dd8>"
      ]
     },
     "metadata": {},
     "output_type": "display_data"
    },
    {
     "name": "stdout",
     "output_type": "stream",
     "text": [
      "302.35040515936123\n"
     ]
    }
   ],
   "source": [
    "Python_Netlogo_Connection.run_experiment(params)"
   ]
  },
  {
   "cell_type": "markdown",
   "metadata": {},
   "source": [
    "Grafica de Gantt para las maquinas:"
   ]
  },
  {
   "cell_type": "code",
   "execution_count": 4,
   "metadata": {
    "scrolled": false
   },
   "outputs": [
    {
     "data": {
      "text/html": [
       "<script>requirejs.config({paths: { 'plotly': ['https://cdn.plot.ly/plotly-latest.min']},});if(!window.Plotly) {{require(['plotly'],function(plotly) {window.Plotly=plotly;});}}</script>"
      ],
      "text/vnd.plotly.v1+html": [
       "<script>requirejs.config({paths: { 'plotly': ['https://cdn.plot.ly/plotly-latest.min']},});if(!window.Plotly) {{require(['plotly'],function(plotly) {window.Plotly=plotly;});}}</script>"
      ]
     },
     "metadata": {},
     "output_type": "display_data"
    },
    {
     "data": {
      "application/vnd.plotly.v1+json": {
       "data": [
        {
         "marker": {
          "color": "white"
         },
         "name": "",
         "x": [
          "2017-01-01 0:00:24",
          "2017-01-01 0:00:30"
         ],
         "y": [
          2,
          2
         ]
        },
        {
         "marker": {
          "color": "white"
         },
         "name": "",
         "x": [
          "2017-01-01 0:01:21",
          "2017-01-01 0:01:23"
         ],
         "y": [
          2,
          2
         ]
        },
        {
         "marker": {
          "color": "white"
         },
         "name": "",
         "x": [
          "2017-01-01 0:01:40",
          "2017-01-01 0:03:05"
         ],
         "y": [
          2,
          2
         ]
        },
        {
         "marker": {
          "color": "white"
         },
         "name": "",
         "x": [
          "2017-01-01 0:03:40",
          "2017-01-01 0:03:50"
         ],
         "y": [
          2,
          2
         ]
        },
        {
         "marker": {
          "color": "white"
         },
         "name": "",
         "x": [
          "2017-01-01 0:04:39",
          "2017-01-01 0:05:48"
         ],
         "y": [
          2,
          2
         ]
        },
        {
         "marker": {
          "color": "white"
         },
         "name": "",
         "x": [
          "2017-01-01 0:06:04",
          "2017-01-01 0:06:06"
         ],
         "y": [
          2,
          2
         ]
        },
        {
         "marker": {
          "color": "white"
         },
         "name": "",
         "x": [
          "2017-01-01 0:06:20",
          "2017-01-01 0:06:23"
         ],
         "y": [
          2,
          2
         ]
        },
        {
         "marker": {
          "color": "white"
         },
         "name": "",
         "x": [
          "2017-01-01 0:06:53",
          "2017-01-01 0:07:04"
         ],
         "y": [
          2,
          2
         ]
        },
        {
         "marker": {
          "color": "white"
         },
         "name": "",
         "x": [
          "2017-01-01 0:07:23",
          "2017-01-01 0:07:33"
         ],
         "y": [
          2,
          2
         ]
        },
        {
         "marker": {
          "color": "white"
         },
         "name": "",
         "x": [
          "2017-01-01 0:00:48",
          "2017-01-01 0:01:03"
         ],
         "y": [
          1,
          1
         ]
        },
        {
         "marker": {
          "color": "white"
         },
         "name": "",
         "x": [
          "2017-01-01 0:02:08",
          "2017-01-01 0:02:10"
         ],
         "y": [
          1,
          1
         ]
        },
        {
         "marker": {
          "color": "white"
         },
         "name": "",
         "x": [
          "2017-01-01 0:02:36",
          "2017-01-01 0:02:38"
         ],
         "y": [
          1,
          1
         ]
        },
        {
         "marker": {
          "color": "white"
         },
         "name": "",
         "x": [
          "2017-01-01 0:02:52",
          "2017-01-01 0:04:11"
         ],
         "y": [
          1,
          1
         ]
        },
        {
         "marker": {
          "color": "white"
         },
         "name": "",
         "x": [
          "2017-01-01 0:04:56",
          "2017-01-01 0:04:58"
         ],
         "y": [
          1,
          1
         ]
        },
        {
         "marker": {
          "color": "white"
         },
         "name": "",
         "x": [
          "2017-01-01 0:05:36",
          "2017-01-01 0:07:17"
         ],
         "y": [
          1,
          1
         ]
        },
        {
         "marker": {
          "color": "white"
         },
         "name": "",
         "x": [
          "2017-01-01 0:07:43",
          "2017-01-01 0:08:30"
         ],
         "y": [
          1,
          1
         ]
        },
        {
         "marker": {
          "color": "white"
         },
         "name": "",
         "x": [
          "2017-01-01 0:08:48",
          "2017-01-01 0:09:12"
         ],
         "y": [
          1,
          1
         ]
        },
        {
         "marker": {
          "color": "white"
         },
         "name": "",
         "x": [
          "2017-01-01 0:01:13",
          "2017-01-01 0:02:00"
         ],
         "y": [
          0,
          0
         ]
        },
        {
         "marker": {
          "color": "white"
         },
         "name": "",
         "x": [
          "2017-01-01 0:03:03",
          "2017-01-01 0:03:05"
         ],
         "y": [
          0,
          0
         ]
        },
        {
         "marker": {
          "color": "white"
         },
         "name": "",
         "x": [
          "2017-01-01 0:03:53",
          "2017-01-01 0:03:56"
         ],
         "y": [
          0,
          0
         ]
        },
        {
         "marker": {
          "color": "white"
         },
         "name": "",
         "x": [
          "2017-01-01 0:04:58",
          "2017-01-01 0:05:01"
         ],
         "y": [
          0,
          0
         ]
        },
        {
         "marker": {
          "color": "white"
         },
         "name": "",
         "x": [
          "2017-01-01 0:05:40",
          "2017-01-01 0:05:42"
         ],
         "y": [
          0,
          0
         ]
        },
        {
         "marker": {
          "color": "white"
         },
         "name": "",
         "x": [
          "2017-01-01 0:05:57",
          "2017-01-01 0:06:19"
         ],
         "y": [
          0,
          0
         ]
        },
        {
         "marker": {
          "color": "white"
         },
         "name": "",
         "x": [
          "2017-01-01 0:06:28",
          "2017-01-01 0:06:52"
         ],
         "y": [
          0,
          0
         ]
        },
        {
         "marker": {
          "color": "white"
         },
         "name": "",
         "x": [
          "2017-01-01 0:08:06",
          "2017-01-01 0:08:26"
         ],
         "y": [
          0,
          0
         ]
        },
        {
         "marker": {
          "color": "white"
         },
         "name": "",
         "x": [
          "2017-01-01 0:08:56",
          "2017-01-01 0:08:59"
         ],
         "y": [
          0,
          0
         ]
        },
        {
         "marker": {
          "color": "white"
         },
         "name": "",
         "x": [
          "2017-01-01 0:09:29",
          "2017-01-01 0:09:32"
         ],
         "y": [
          0,
          0
         ]
        },
        {
         "marker": {
          "color": "white"
         },
         "name": "",
         "x": [
          "2017-01-01 0:10:02",
          "2017-01-01 0:10:35"
         ],
         "y": [
          0,
          0
         ]
        },
        {
         "hoverinfo": "none",
         "marker": {
          "color": "rgb(18, 246, 119)",
          "size": 1
         },
         "name": "Sub product 0",
         "showlegend": true,
         "x": [
          "2017-01-01 0:10:02",
          "2017-01-01 0:10:02"
         ],
         "y": [
          0,
          0
         ]
        },
        {
         "hoverinfo": "none",
         "marker": {
          "color": "rgb(60, 235, 145)",
          "size": 1
         },
         "name": "Sub product 1",
         "showlegend": true,
         "x": [
          "2017-01-01 0:10:02",
          "2017-01-01 0:10:02"
         ],
         "y": [
          1,
          1
         ]
        },
        {
         "hoverinfo": "none",
         "marker": {
          "color": "rgb(114, 219, 0)",
          "size": 1
         },
         "name": "Sub product 2",
         "showlegend": true,
         "x": [
          "2017-01-01 0:10:02",
          "2017-01-01 0:10:02"
         ],
         "y": [
          2,
          2
         ]
        },
        {
         "hoverinfo": "none",
         "marker": {
          "color": "rgb(181, 39, 128)",
          "size": 1
         },
         "name": "Sub product 3",
         "showlegend": true,
         "x": [
          "2017-01-01 0:10:02",
          "2017-01-01 0:10:02"
         ],
         "y": [
          3,
          3
         ]
        }
       ],
       "layout": {
        "height": 600,
        "hovermode": "closest",
        "shapes": [
         {
          "fillcolor": "rgb(18, 246, 119)",
          "line": {
           "width": 0
          },
          "opacity": 1,
          "type": "rect",
          "x0": "2017-01-01 0:00:24",
          "x1": "2017-01-01 0:00:30",
          "xref": "x",
          "y0": 1.8,
          "y1": 2.2,
          "yref": "y"
         },
         {
          "fillcolor": "rgb(18, 246, 119)",
          "line": {
           "width": 0
          },
          "opacity": 1,
          "type": "rect",
          "x0": "2017-01-01 0:01:21",
          "x1": "2017-01-01 0:01:23",
          "xref": "x",
          "y0": 1.8,
          "y1": 2.2,
          "yref": "y"
         },
         {
          "fillcolor": "rgb(60, 235, 145)",
          "line": {
           "width": 0
          },
          "opacity": 1,
          "type": "rect",
          "x0": "2017-01-01 0:01:40",
          "x1": "2017-01-01 0:03:05",
          "xref": "x",
          "y0": 1.8,
          "y1": 2.2,
          "yref": "y"
         },
         {
          "fillcolor": "rgb(18, 246, 119)",
          "line": {
           "width": 0
          },
          "opacity": 1,
          "type": "rect",
          "x0": "2017-01-01 0:03:40",
          "x1": "2017-01-01 0:03:50",
          "xref": "x",
          "y0": 1.8,
          "y1": 2.2,
          "yref": "y"
         },
         {
          "fillcolor": "rgb(114, 219, 0)",
          "line": {
           "width": 0
          },
          "opacity": 1,
          "type": "rect",
          "x0": "2017-01-01 0:04:39",
          "x1": "2017-01-01 0:05:48",
          "xref": "x",
          "y0": 1.8,
          "y1": 2.2,
          "yref": "y"
         },
         {
          "fillcolor": "rgb(181, 39, 128)",
          "line": {
           "width": 0
          },
          "opacity": 1,
          "type": "rect",
          "x0": "2017-01-01 0:06:04",
          "x1": "2017-01-01 0:06:06",
          "xref": "x",
          "y0": 1.8,
          "y1": 2.2,
          "yref": "y"
         },
         {
          "fillcolor": "rgb(114, 219, 0)",
          "line": {
           "width": 0
          },
          "opacity": 1,
          "type": "rect",
          "x0": "2017-01-01 0:06:20",
          "x1": "2017-01-01 0:06:23",
          "xref": "x",
          "y0": 1.8,
          "y1": 2.2,
          "yref": "y"
         },
         {
          "fillcolor": "rgb(114, 219, 0)",
          "line": {
           "width": 0
          },
          "opacity": 1,
          "type": "rect",
          "x0": "2017-01-01 0:06:53",
          "x1": "2017-01-01 0:07:04",
          "xref": "x",
          "y0": 1.8,
          "y1": 2.2,
          "yref": "y"
         },
         {
          "fillcolor": "rgb(114, 219, 0)",
          "line": {
           "width": 0
          },
          "opacity": 1,
          "type": "rect",
          "x0": "2017-01-01 0:07:23",
          "x1": "2017-01-01 0:07:33",
          "xref": "x",
          "y0": 1.8,
          "y1": 2.2,
          "yref": "y"
         },
         {
          "fillcolor": "rgb(60, 235, 145)",
          "line": {
           "width": 0
          },
          "opacity": 1,
          "type": "rect",
          "x0": "2017-01-01 0:00:48",
          "x1": "2017-01-01 0:01:03",
          "xref": "x",
          "y0": 0.8,
          "y1": 1.2,
          "yref": "y"
         },
         {
          "fillcolor": "rgb(18, 246, 119)",
          "line": {
           "width": 0
          },
          "opacity": 1,
          "type": "rect",
          "x0": "2017-01-01 0:02:08",
          "x1": "2017-01-01 0:02:10",
          "xref": "x",
          "y0": 0.8,
          "y1": 1.2,
          "yref": "y"
         },
         {
          "fillcolor": "rgb(18, 246, 119)",
          "line": {
           "width": 0
          },
          "opacity": 1,
          "type": "rect",
          "x0": "2017-01-01 0:02:36",
          "x1": "2017-01-01 0:02:38",
          "xref": "x",
          "y0": 0.8,
          "y1": 1.2,
          "yref": "y"
         },
         {
          "fillcolor": "rgb(181, 39, 128)",
          "line": {
           "width": 0
          },
          "opacity": 1,
          "type": "rect",
          "x0": "2017-01-01 0:02:52",
          "x1": "2017-01-01 0:04:11",
          "xref": "x",
          "y0": 0.8,
          "y1": 1.2,
          "yref": "y"
         },
         {
          "fillcolor": "rgb(18, 246, 119)",
          "line": {
           "width": 0
          },
          "opacity": 1,
          "type": "rect",
          "x0": "2017-01-01 0:04:56",
          "x1": "2017-01-01 0:04:58",
          "xref": "x",
          "y0": 0.8,
          "y1": 1.2,
          "yref": "y"
         },
         {
          "fillcolor": "rgb(60, 235, 145)",
          "line": {
           "width": 0
          },
          "opacity": 1,
          "type": "rect",
          "x0": "2017-01-01 0:05:36",
          "x1": "2017-01-01 0:07:17",
          "xref": "x",
          "y0": 0.8,
          "y1": 1.2,
          "yref": "y"
         },
         {
          "fillcolor": "rgb(60, 235, 145)",
          "line": {
           "width": 0
          },
          "opacity": 1,
          "type": "rect",
          "x0": "2017-01-01 0:07:43",
          "x1": "2017-01-01 0:08:30",
          "xref": "x",
          "y0": 0.8,
          "y1": 1.2,
          "yref": "y"
         },
         {
          "fillcolor": "rgb(60, 235, 145)",
          "line": {
           "width": 0
          },
          "opacity": 1,
          "type": "rect",
          "x0": "2017-01-01 0:08:48",
          "x1": "2017-01-01 0:09:12",
          "xref": "x",
          "y0": 0.8,
          "y1": 1.2,
          "yref": "y"
         },
         {
          "fillcolor": "rgb(181, 39, 128)",
          "line": {
           "width": 0
          },
          "opacity": 1,
          "type": "rect",
          "x0": "2017-01-01 0:01:13",
          "x1": "2017-01-01 0:02:00",
          "xref": "x",
          "y0": -0.2,
          "y1": 0.2,
          "yref": "y"
         },
         {
          "fillcolor": "rgb(18, 246, 119)",
          "line": {
           "width": 0
          },
          "opacity": 1,
          "type": "rect",
          "x0": "2017-01-01 0:03:03",
          "x1": "2017-01-01 0:03:05",
          "xref": "x",
          "y0": -0.2,
          "y1": 0.2,
          "yref": "y"
         },
         {
          "fillcolor": "rgb(60, 235, 145)",
          "line": {
           "width": 0
          },
          "opacity": 1,
          "type": "rect",
          "x0": "2017-01-01 0:03:53",
          "x1": "2017-01-01 0:03:56",
          "xref": "x",
          "y0": -0.2,
          "y1": 0.2,
          "yref": "y"
         },
         {
          "fillcolor": "rgb(60, 235, 145)",
          "line": {
           "width": 0
          },
          "opacity": 1,
          "type": "rect",
          "x0": "2017-01-01 0:04:58",
          "x1": "2017-01-01 0:05:01",
          "xref": "x",
          "y0": -0.2,
          "y1": 0.2,
          "yref": "y"
         },
         {
          "fillcolor": "rgb(181, 39, 128)",
          "line": {
           "width": 0
          },
          "opacity": 1,
          "type": "rect",
          "x0": "2017-01-01 0:05:40",
          "x1": "2017-01-01 0:05:42",
          "xref": "x",
          "y0": -0.2,
          "y1": 0.2,
          "yref": "y"
         },
         {
          "fillcolor": "rgb(18, 246, 119)",
          "line": {
           "width": 0
          },
          "opacity": 1,
          "type": "rect",
          "x0": "2017-01-01 0:05:57",
          "x1": "2017-01-01 0:06:19",
          "xref": "x",
          "y0": -0.2,
          "y1": 0.2,
          "yref": "y"
         },
         {
          "fillcolor": "rgb(181, 39, 128)",
          "line": {
           "width": 0
          },
          "opacity": 1,
          "type": "rect",
          "x0": "2017-01-01 0:06:28",
          "x1": "2017-01-01 0:06:52",
          "xref": "x",
          "y0": -0.2,
          "y1": 0.2,
          "yref": "y"
         },
         {
          "fillcolor": "rgb(114, 219, 0)",
          "line": {
           "width": 0
          },
          "opacity": 1,
          "type": "rect",
          "x0": "2017-01-01 0:08:06",
          "x1": "2017-01-01 0:08:26",
          "xref": "x",
          "y0": -0.2,
          "y1": 0.2,
          "yref": "y"
         },
         {
          "fillcolor": "rgb(114, 219, 0)",
          "line": {
           "width": 0
          },
          "opacity": 1,
          "type": "rect",
          "x0": "2017-01-01 0:08:56",
          "x1": "2017-01-01 0:08:59",
          "xref": "x",
          "y0": -0.2,
          "y1": 0.2,
          "yref": "y"
         },
         {
          "fillcolor": "rgb(114, 219, 0)",
          "line": {
           "width": 0
          },
          "opacity": 1,
          "type": "rect",
          "x0": "2017-01-01 0:09:29",
          "x1": "2017-01-01 0:09:32",
          "xref": "x",
          "y0": -0.2,
          "y1": 0.2,
          "yref": "y"
         },
         {
          "fillcolor": "rgb(114, 219, 0)",
          "line": {
           "width": 0
          },
          "opacity": 1,
          "type": "rect",
          "x0": "2017-01-01 0:10:02",
          "x1": "2017-01-01 0:10:35",
          "xref": "x",
          "y0": -0.2,
          "y1": 0.2,
          "yref": "y"
         }
        ],
        "showlegend": true,
        "title": "Gantt Chart",
        "width": 900,
        "xaxis": {
         "rangeselector": {
          "buttons": [
           {
            "count": 7,
            "label": "1w",
            "step": "day",
            "stepmode": "backward"
           },
           {
            "count": 1,
            "label": "1m",
            "step": "month",
            "stepmode": "backward"
           },
           {
            "count": 6,
            "label": "6m",
            "step": "month",
            "stepmode": "backward"
           },
           {
            "count": 1,
            "label": "YTD",
            "step": "year",
            "stepmode": "todate"
           },
           {
            "count": 1,
            "label": "1y",
            "step": "year",
            "stepmode": "backward"
           },
           {
            "step": "all"
           }
          ]
         },
         "showgrid": false,
         "type": "date",
         "zeroline": false
        },
        "yaxis": {
         "autorange": false,
         "range": [
          -1,
          4
         ],
         "showgrid": false,
         "ticktext": [
          "Shuttles 3",
          "Shuttles 2",
          "Shuttles 1"
         ],
         "tickvals": [
          0,
          1,
          2
         ],
         "zeroline": false
        }
       }
      },
      "text/html": [
       "<div id=\"6692d467-ef61-4224-b382-5ea787c0d30c\" style=\"height: 600px; width: 900px;\" class=\"plotly-graph-div\"></div><script type=\"text/javascript\">require([\"plotly\"], function(Plotly) { window.PLOTLYENV=window.PLOTLYENV || {};window.PLOTLYENV.BASE_URL=\"https://plot.ly\";Plotly.newPlot(\"6692d467-ef61-4224-b382-5ea787c0d30c\", [{\"x\": [\"2017-01-01 0:00:24\", \"2017-01-01 0:00:30\"], \"y\": [2, 2], \"name\": \"\", \"marker\": {\"color\": \"white\"}}, {\"x\": [\"2017-01-01 0:01:21\", \"2017-01-01 0:01:23\"], \"y\": [2, 2], \"name\": \"\", \"marker\": {\"color\": \"white\"}}, {\"x\": [\"2017-01-01 0:01:40\", \"2017-01-01 0:03:05\"], \"y\": [2, 2], \"name\": \"\", \"marker\": {\"color\": \"white\"}}, {\"x\": [\"2017-01-01 0:03:40\", \"2017-01-01 0:03:50\"], \"y\": [2, 2], \"name\": \"\", \"marker\": {\"color\": \"white\"}}, {\"x\": [\"2017-01-01 0:04:39\", \"2017-01-01 0:05:48\"], \"y\": [2, 2], \"name\": \"\", \"marker\": {\"color\": \"white\"}}, {\"x\": [\"2017-01-01 0:06:04\", \"2017-01-01 0:06:06\"], \"y\": [2, 2], \"name\": \"\", \"marker\": {\"color\": \"white\"}}, {\"x\": [\"2017-01-01 0:06:20\", \"2017-01-01 0:06:23\"], \"y\": [2, 2], \"name\": \"\", \"marker\": {\"color\": \"white\"}}, {\"x\": [\"2017-01-01 0:06:53\", \"2017-01-01 0:07:04\"], \"y\": [2, 2], \"name\": \"\", \"marker\": {\"color\": \"white\"}}, {\"x\": [\"2017-01-01 0:07:23\", \"2017-01-01 0:07:33\"], \"y\": [2, 2], \"name\": \"\", \"marker\": {\"color\": \"white\"}}, {\"x\": [\"2017-01-01 0:00:48\", \"2017-01-01 0:01:03\"], \"y\": [1, 1], \"name\": \"\", \"marker\": {\"color\": \"white\"}}, {\"x\": [\"2017-01-01 0:02:08\", \"2017-01-01 0:02:10\"], \"y\": [1, 1], \"name\": \"\", \"marker\": {\"color\": \"white\"}}, {\"x\": [\"2017-01-01 0:02:36\", \"2017-01-01 0:02:38\"], \"y\": [1, 1], \"name\": \"\", \"marker\": {\"color\": \"white\"}}, {\"x\": [\"2017-01-01 0:02:52\", \"2017-01-01 0:04:11\"], \"y\": [1, 1], \"name\": \"\", \"marker\": {\"color\": \"white\"}}, {\"x\": [\"2017-01-01 0:04:56\", \"2017-01-01 0:04:58\"], \"y\": [1, 1], \"name\": \"\", \"marker\": {\"color\": \"white\"}}, {\"x\": [\"2017-01-01 0:05:36\", \"2017-01-01 0:07:17\"], \"y\": [1, 1], \"name\": \"\", \"marker\": {\"color\": \"white\"}}, {\"x\": [\"2017-01-01 0:07:43\", \"2017-01-01 0:08:30\"], \"y\": [1, 1], \"name\": \"\", \"marker\": {\"color\": \"white\"}}, {\"x\": [\"2017-01-01 0:08:48\", \"2017-01-01 0:09:12\"], \"y\": [1, 1], \"name\": \"\", \"marker\": {\"color\": \"white\"}}, {\"x\": [\"2017-01-01 0:01:13\", \"2017-01-01 0:02:00\"], \"y\": [0, 0], \"name\": \"\", \"marker\": {\"color\": \"white\"}}, {\"x\": [\"2017-01-01 0:03:03\", \"2017-01-01 0:03:05\"], \"y\": [0, 0], \"name\": \"\", \"marker\": {\"color\": \"white\"}}, {\"x\": [\"2017-01-01 0:03:53\", \"2017-01-01 0:03:56\"], \"y\": [0, 0], \"name\": \"\", \"marker\": {\"color\": \"white\"}}, {\"x\": [\"2017-01-01 0:04:58\", \"2017-01-01 0:05:01\"], \"y\": [0, 0], \"name\": \"\", \"marker\": {\"color\": \"white\"}}, {\"x\": [\"2017-01-01 0:05:40\", \"2017-01-01 0:05:42\"], \"y\": [0, 0], \"name\": \"\", \"marker\": {\"color\": \"white\"}}, {\"x\": [\"2017-01-01 0:05:57\", \"2017-01-01 0:06:19\"], \"y\": [0, 0], \"name\": \"\", \"marker\": {\"color\": \"white\"}}, {\"x\": [\"2017-01-01 0:06:28\", \"2017-01-01 0:06:52\"], \"y\": [0, 0], \"name\": \"\", \"marker\": {\"color\": \"white\"}}, {\"x\": [\"2017-01-01 0:08:06\", \"2017-01-01 0:08:26\"], \"y\": [0, 0], \"name\": \"\", \"marker\": {\"color\": \"white\"}}, {\"x\": [\"2017-01-01 0:08:56\", \"2017-01-01 0:08:59\"], \"y\": [0, 0], \"name\": \"\", \"marker\": {\"color\": \"white\"}}, {\"x\": [\"2017-01-01 0:09:29\", \"2017-01-01 0:09:32\"], \"y\": [0, 0], \"name\": \"\", \"marker\": {\"color\": \"white\"}}, {\"x\": [\"2017-01-01 0:10:02\", \"2017-01-01 0:10:35\"], \"y\": [0, 0], \"name\": \"\", \"marker\": {\"color\": \"white\"}}, {\"x\": [\"2017-01-01 0:10:02\", \"2017-01-01 0:10:02\"], \"name\": \"Sub product 0\", \"hoverinfo\": \"none\", \"y\": [0, 0], \"marker\": {\"color\": \"rgb(18, 246, 119)\", \"size\": 1}, \"showlegend\": true}, {\"x\": [\"2017-01-01 0:10:02\", \"2017-01-01 0:10:02\"], \"name\": \"Sub product 1\", \"hoverinfo\": \"none\", \"y\": [1, 1], \"marker\": {\"color\": \"rgb(60, 235, 145)\", \"size\": 1}, \"showlegend\": true}, {\"x\": [\"2017-01-01 0:10:02\", \"2017-01-01 0:10:02\"], \"name\": \"Sub product 2\", \"hoverinfo\": \"none\", \"y\": [2, 2], \"marker\": {\"color\": \"rgb(114, 219, 0)\", \"size\": 1}, \"showlegend\": true}, {\"x\": [\"2017-01-01 0:10:02\", \"2017-01-01 0:10:02\"], \"name\": \"Sub product 3\", \"hoverinfo\": \"none\", \"y\": [3, 3], \"marker\": {\"color\": \"rgb(181, 39, 128)\", \"size\": 1}, \"showlegend\": true}], {\"title\": \"Gantt Chart\", \"hovermode\": \"closest\", \"yaxis\": {\"range\": [-1, 4], \"showgrid\": false, \"zeroline\": false, \"tickvals\": [0, 1, 2], \"autorange\": false, \"ticktext\": [\"Shuttles 3\", \"Shuttles 2\", \"Shuttles 1\"]}, \"height\": 600, \"showlegend\": true, \"xaxis\": {\"showgrid\": false, \"rangeselector\": {\"buttons\": [{\"label\": \"1w\", \"count\": 7, \"stepmode\": \"backward\", \"step\": \"day\"}, {\"label\": \"1m\", \"count\": 1, \"stepmode\": \"backward\", \"step\": \"month\"}, {\"label\": \"6m\", \"count\": 6, \"stepmode\": \"backward\", \"step\": \"month\"}, {\"label\": \"YTD\", \"count\": 1, \"stepmode\": \"todate\", \"step\": \"year\"}, {\"label\": \"1y\", \"count\": 1, \"stepmode\": \"backward\", \"step\": \"year\"}, {\"step\": \"all\"}]}, \"zeroline\": false, \"type\": \"date\"}, \"shapes\": [{\"y1\": 2.2, \"yref\": \"y\", \"xref\": \"x\", \"line\": {\"width\": 0}, \"x1\": \"2017-01-01 0:00:30\", \"x0\": \"2017-01-01 0:00:24\", \"y0\": 1.8, \"fillcolor\": \"rgb(18, 246, 119)\", \"opacity\": 1, \"type\": \"rect\"}, {\"y1\": 2.2, \"yref\": \"y\", \"xref\": \"x\", \"line\": {\"width\": 0}, \"x1\": \"2017-01-01 0:01:23\", \"x0\": \"2017-01-01 0:01:21\", \"y0\": 1.8, \"fillcolor\": \"rgb(18, 246, 119)\", \"opacity\": 1, \"type\": \"rect\"}, {\"y1\": 2.2, \"yref\": \"y\", \"xref\": \"x\", \"line\": {\"width\": 0}, \"x1\": \"2017-01-01 0:03:05\", \"x0\": \"2017-01-01 0:01:40\", \"y0\": 1.8, \"fillcolor\": \"rgb(60, 235, 145)\", \"opacity\": 1, \"type\": \"rect\"}, {\"y1\": 2.2, \"yref\": \"y\", \"xref\": \"x\", \"line\": {\"width\": 0}, \"x1\": \"2017-01-01 0:03:50\", \"x0\": \"2017-01-01 0:03:40\", \"y0\": 1.8, \"fillcolor\": \"rgb(18, 246, 119)\", \"opacity\": 1, \"type\": \"rect\"}, {\"y1\": 2.2, \"yref\": \"y\", \"xref\": \"x\", \"line\": {\"width\": 0}, \"x1\": \"2017-01-01 0:05:48\", \"x0\": \"2017-01-01 0:04:39\", \"y0\": 1.8, \"fillcolor\": \"rgb(114, 219, 0)\", \"opacity\": 1, \"type\": \"rect\"}, {\"y1\": 2.2, \"yref\": \"y\", \"xref\": \"x\", \"line\": {\"width\": 0}, \"x1\": \"2017-01-01 0:06:06\", \"x0\": \"2017-01-01 0:06:04\", \"y0\": 1.8, \"fillcolor\": \"rgb(181, 39, 128)\", \"opacity\": 1, \"type\": \"rect\"}, {\"y1\": 2.2, \"yref\": \"y\", \"xref\": \"x\", \"line\": {\"width\": 0}, \"x1\": \"2017-01-01 0:06:23\", \"x0\": \"2017-01-01 0:06:20\", \"y0\": 1.8, \"fillcolor\": \"rgb(114, 219, 0)\", \"opacity\": 1, \"type\": \"rect\"}, {\"y1\": 2.2, \"yref\": \"y\", \"xref\": \"x\", \"line\": {\"width\": 0}, \"x1\": \"2017-01-01 0:07:04\", \"x0\": \"2017-01-01 0:06:53\", \"y0\": 1.8, \"fillcolor\": \"rgb(114, 219, 0)\", \"opacity\": 1, \"type\": \"rect\"}, {\"y1\": 2.2, \"yref\": \"y\", \"xref\": \"x\", \"line\": {\"width\": 0}, \"x1\": \"2017-01-01 0:07:33\", \"x0\": \"2017-01-01 0:07:23\", \"y0\": 1.8, \"fillcolor\": \"rgb(114, 219, 0)\", \"opacity\": 1, \"type\": \"rect\"}, {\"y1\": 1.2, \"yref\": \"y\", \"xref\": \"x\", \"line\": {\"width\": 0}, \"x1\": \"2017-01-01 0:01:03\", \"x0\": \"2017-01-01 0:00:48\", \"y0\": 0.8, \"fillcolor\": \"rgb(60, 235, 145)\", \"opacity\": 1, \"type\": \"rect\"}, {\"y1\": 1.2, \"yref\": \"y\", \"xref\": \"x\", \"line\": {\"width\": 0}, \"x1\": \"2017-01-01 0:02:10\", \"x0\": \"2017-01-01 0:02:08\", \"y0\": 0.8, \"fillcolor\": \"rgb(18, 246, 119)\", \"opacity\": 1, \"type\": \"rect\"}, {\"y1\": 1.2, \"yref\": \"y\", \"xref\": \"x\", \"line\": {\"width\": 0}, \"x1\": \"2017-01-01 0:02:38\", \"x0\": \"2017-01-01 0:02:36\", \"y0\": 0.8, \"fillcolor\": \"rgb(18, 246, 119)\", \"opacity\": 1, \"type\": \"rect\"}, {\"y1\": 1.2, \"yref\": \"y\", \"xref\": \"x\", \"line\": {\"width\": 0}, \"x1\": \"2017-01-01 0:04:11\", \"x0\": \"2017-01-01 0:02:52\", \"y0\": 0.8, \"fillcolor\": \"rgb(181, 39, 128)\", \"opacity\": 1, \"type\": \"rect\"}, {\"y1\": 1.2, \"yref\": \"y\", \"xref\": \"x\", \"line\": {\"width\": 0}, \"x1\": \"2017-01-01 0:04:58\", \"x0\": \"2017-01-01 0:04:56\", \"y0\": 0.8, \"fillcolor\": \"rgb(18, 246, 119)\", \"opacity\": 1, \"type\": \"rect\"}, {\"y1\": 1.2, \"yref\": \"y\", \"xref\": \"x\", \"line\": {\"width\": 0}, \"x1\": \"2017-01-01 0:07:17\", \"x0\": \"2017-01-01 0:05:36\", \"y0\": 0.8, \"fillcolor\": \"rgb(60, 235, 145)\", \"opacity\": 1, \"type\": \"rect\"}, {\"y1\": 1.2, \"yref\": \"y\", \"xref\": \"x\", \"line\": {\"width\": 0}, \"x1\": \"2017-01-01 0:08:30\", \"x0\": \"2017-01-01 0:07:43\", \"y0\": 0.8, \"fillcolor\": \"rgb(60, 235, 145)\", \"opacity\": 1, \"type\": \"rect\"}, {\"y1\": 1.2, \"yref\": \"y\", \"xref\": \"x\", \"line\": {\"width\": 0}, \"x1\": \"2017-01-01 0:09:12\", \"x0\": \"2017-01-01 0:08:48\", \"y0\": 0.8, \"fillcolor\": \"rgb(60, 235, 145)\", \"opacity\": 1, \"type\": \"rect\"}, {\"y1\": 0.2, \"yref\": \"y\", \"xref\": \"x\", \"line\": {\"width\": 0}, \"x1\": \"2017-01-01 0:02:00\", \"x0\": \"2017-01-01 0:01:13\", \"y0\": -0.2, \"fillcolor\": \"rgb(181, 39, 128)\", \"opacity\": 1, \"type\": \"rect\"}, {\"y1\": 0.2, \"yref\": \"y\", \"xref\": \"x\", \"line\": {\"width\": 0}, \"x1\": \"2017-01-01 0:03:05\", \"x0\": \"2017-01-01 0:03:03\", \"y0\": -0.2, \"fillcolor\": \"rgb(18, 246, 119)\", \"opacity\": 1, \"type\": \"rect\"}, {\"y1\": 0.2, \"yref\": \"y\", \"xref\": \"x\", \"line\": {\"width\": 0}, \"x1\": \"2017-01-01 0:03:56\", \"x0\": \"2017-01-01 0:03:53\", \"y0\": -0.2, \"fillcolor\": \"rgb(60, 235, 145)\", \"opacity\": 1, \"type\": \"rect\"}, {\"y1\": 0.2, \"yref\": \"y\", \"xref\": \"x\", \"line\": {\"width\": 0}, \"x1\": \"2017-01-01 0:05:01\", \"x0\": \"2017-01-01 0:04:58\", \"y0\": -0.2, \"fillcolor\": \"rgb(60, 235, 145)\", \"opacity\": 1, \"type\": \"rect\"}, {\"y1\": 0.2, \"yref\": \"y\", \"xref\": \"x\", \"line\": {\"width\": 0}, \"x1\": \"2017-01-01 0:05:42\", \"x0\": \"2017-01-01 0:05:40\", \"y0\": -0.2, \"fillcolor\": \"rgb(181, 39, 128)\", \"opacity\": 1, \"type\": \"rect\"}, {\"y1\": 0.2, \"yref\": \"y\", \"xref\": \"x\", \"line\": {\"width\": 0}, \"x1\": \"2017-01-01 0:06:19\", \"x0\": \"2017-01-01 0:05:57\", \"y0\": -0.2, \"fillcolor\": \"rgb(18, 246, 119)\", \"opacity\": 1, \"type\": \"rect\"}, {\"y1\": 0.2, \"yref\": \"y\", \"xref\": \"x\", \"line\": {\"width\": 0}, \"x1\": \"2017-01-01 0:06:52\", \"x0\": \"2017-01-01 0:06:28\", \"y0\": -0.2, \"fillcolor\": \"rgb(181, 39, 128)\", \"opacity\": 1, \"type\": \"rect\"}, {\"y1\": 0.2, \"yref\": \"y\", \"xref\": \"x\", \"line\": {\"width\": 0}, \"x1\": \"2017-01-01 0:08:26\", \"x0\": \"2017-01-01 0:08:06\", \"y0\": -0.2, \"fillcolor\": \"rgb(114, 219, 0)\", \"opacity\": 1, \"type\": \"rect\"}, {\"y1\": 0.2, \"yref\": \"y\", \"xref\": \"x\", \"line\": {\"width\": 0}, \"x1\": \"2017-01-01 0:08:59\", \"x0\": \"2017-01-01 0:08:56\", \"y0\": -0.2, \"fillcolor\": \"rgb(114, 219, 0)\", \"opacity\": 1, \"type\": \"rect\"}, {\"y1\": 0.2, \"yref\": \"y\", \"xref\": \"x\", \"line\": {\"width\": 0}, \"x1\": \"2017-01-01 0:09:32\", \"x0\": \"2017-01-01 0:09:29\", \"y0\": -0.2, \"fillcolor\": \"rgb(114, 219, 0)\", \"opacity\": 1, \"type\": \"rect\"}, {\"y1\": 0.2, \"yref\": \"y\", \"xref\": \"x\", \"line\": {\"width\": 0}, \"x1\": \"2017-01-01 0:10:35\", \"x0\": \"2017-01-01 0:10:02\", \"y0\": -0.2, \"fillcolor\": \"rgb(114, 219, 0)\", \"opacity\": 1, \"type\": \"rect\"}], \"width\": 900}, {\"linkText\": \"Export to plot.ly\", \"showLink\": true})});</script>"
      ],
      "text/vnd.plotly.v1+html": [
       "<div id=\"6692d467-ef61-4224-b382-5ea787c0d30c\" style=\"height: 600px; width: 900px;\" class=\"plotly-graph-div\"></div><script type=\"text/javascript\">require([\"plotly\"], function(Plotly) { window.PLOTLYENV=window.PLOTLYENV || {};window.PLOTLYENV.BASE_URL=\"https://plot.ly\";Plotly.newPlot(\"6692d467-ef61-4224-b382-5ea787c0d30c\", [{\"x\": [\"2017-01-01 0:00:24\", \"2017-01-01 0:00:30\"], \"y\": [2, 2], \"name\": \"\", \"marker\": {\"color\": \"white\"}}, {\"x\": [\"2017-01-01 0:01:21\", \"2017-01-01 0:01:23\"], \"y\": [2, 2], \"name\": \"\", \"marker\": {\"color\": \"white\"}}, {\"x\": [\"2017-01-01 0:01:40\", \"2017-01-01 0:03:05\"], \"y\": [2, 2], \"name\": \"\", \"marker\": {\"color\": \"white\"}}, {\"x\": [\"2017-01-01 0:03:40\", \"2017-01-01 0:03:50\"], \"y\": [2, 2], \"name\": \"\", \"marker\": {\"color\": \"white\"}}, {\"x\": [\"2017-01-01 0:04:39\", \"2017-01-01 0:05:48\"], \"y\": [2, 2], \"name\": \"\", \"marker\": {\"color\": \"white\"}}, {\"x\": [\"2017-01-01 0:06:04\", \"2017-01-01 0:06:06\"], \"y\": [2, 2], \"name\": \"\", \"marker\": {\"color\": \"white\"}}, {\"x\": [\"2017-01-01 0:06:20\", \"2017-01-01 0:06:23\"], \"y\": [2, 2], \"name\": \"\", \"marker\": {\"color\": \"white\"}}, {\"x\": [\"2017-01-01 0:06:53\", \"2017-01-01 0:07:04\"], \"y\": [2, 2], \"name\": \"\", \"marker\": {\"color\": \"white\"}}, {\"x\": [\"2017-01-01 0:07:23\", \"2017-01-01 0:07:33\"], \"y\": [2, 2], \"name\": \"\", \"marker\": {\"color\": \"white\"}}, {\"x\": [\"2017-01-01 0:00:48\", \"2017-01-01 0:01:03\"], \"y\": [1, 1], \"name\": \"\", \"marker\": {\"color\": \"white\"}}, {\"x\": [\"2017-01-01 0:02:08\", \"2017-01-01 0:02:10\"], \"y\": [1, 1], \"name\": \"\", \"marker\": {\"color\": \"white\"}}, {\"x\": [\"2017-01-01 0:02:36\", \"2017-01-01 0:02:38\"], \"y\": [1, 1], \"name\": \"\", \"marker\": {\"color\": \"white\"}}, {\"x\": [\"2017-01-01 0:02:52\", \"2017-01-01 0:04:11\"], \"y\": [1, 1], \"name\": \"\", \"marker\": {\"color\": \"white\"}}, {\"x\": [\"2017-01-01 0:04:56\", \"2017-01-01 0:04:58\"], \"y\": [1, 1], \"name\": \"\", \"marker\": {\"color\": \"white\"}}, {\"x\": [\"2017-01-01 0:05:36\", \"2017-01-01 0:07:17\"], \"y\": [1, 1], \"name\": \"\", \"marker\": {\"color\": \"white\"}}, {\"x\": [\"2017-01-01 0:07:43\", \"2017-01-01 0:08:30\"], \"y\": [1, 1], \"name\": \"\", \"marker\": {\"color\": \"white\"}}, {\"x\": [\"2017-01-01 0:08:48\", \"2017-01-01 0:09:12\"], \"y\": [1, 1], \"name\": \"\", \"marker\": {\"color\": \"white\"}}, {\"x\": [\"2017-01-01 0:01:13\", \"2017-01-01 0:02:00\"], \"y\": [0, 0], \"name\": \"\", \"marker\": {\"color\": \"white\"}}, {\"x\": [\"2017-01-01 0:03:03\", \"2017-01-01 0:03:05\"], \"y\": [0, 0], \"name\": \"\", \"marker\": {\"color\": \"white\"}}, {\"x\": [\"2017-01-01 0:03:53\", \"2017-01-01 0:03:56\"], \"y\": [0, 0], \"name\": \"\", \"marker\": {\"color\": \"white\"}}, {\"x\": [\"2017-01-01 0:04:58\", \"2017-01-01 0:05:01\"], \"y\": [0, 0], \"name\": \"\", \"marker\": {\"color\": \"white\"}}, {\"x\": [\"2017-01-01 0:05:40\", \"2017-01-01 0:05:42\"], \"y\": [0, 0], \"name\": \"\", \"marker\": {\"color\": \"white\"}}, {\"x\": [\"2017-01-01 0:05:57\", \"2017-01-01 0:06:19\"], \"y\": [0, 0], \"name\": \"\", \"marker\": {\"color\": \"white\"}}, {\"x\": [\"2017-01-01 0:06:28\", \"2017-01-01 0:06:52\"], \"y\": [0, 0], \"name\": \"\", \"marker\": {\"color\": \"white\"}}, {\"x\": [\"2017-01-01 0:08:06\", \"2017-01-01 0:08:26\"], \"y\": [0, 0], \"name\": \"\", \"marker\": {\"color\": \"white\"}}, {\"x\": [\"2017-01-01 0:08:56\", \"2017-01-01 0:08:59\"], \"y\": [0, 0], \"name\": \"\", \"marker\": {\"color\": \"white\"}}, {\"x\": [\"2017-01-01 0:09:29\", \"2017-01-01 0:09:32\"], \"y\": [0, 0], \"name\": \"\", \"marker\": {\"color\": \"white\"}}, {\"x\": [\"2017-01-01 0:10:02\", \"2017-01-01 0:10:35\"], \"y\": [0, 0], \"name\": \"\", \"marker\": {\"color\": \"white\"}}, {\"x\": [\"2017-01-01 0:10:02\", \"2017-01-01 0:10:02\"], \"name\": \"Sub product 0\", \"hoverinfo\": \"none\", \"y\": [0, 0], \"marker\": {\"color\": \"rgb(18, 246, 119)\", \"size\": 1}, \"showlegend\": true}, {\"x\": [\"2017-01-01 0:10:02\", \"2017-01-01 0:10:02\"], \"name\": \"Sub product 1\", \"hoverinfo\": \"none\", \"y\": [1, 1], \"marker\": {\"color\": \"rgb(60, 235, 145)\", \"size\": 1}, \"showlegend\": true}, {\"x\": [\"2017-01-01 0:10:02\", \"2017-01-01 0:10:02\"], \"name\": \"Sub product 2\", \"hoverinfo\": \"none\", \"y\": [2, 2], \"marker\": {\"color\": \"rgb(114, 219, 0)\", \"size\": 1}, \"showlegend\": true}, {\"x\": [\"2017-01-01 0:10:02\", \"2017-01-01 0:10:02\"], \"name\": \"Sub product 3\", \"hoverinfo\": \"none\", \"y\": [3, 3], \"marker\": {\"color\": \"rgb(181, 39, 128)\", \"size\": 1}, \"showlegend\": true}], {\"title\": \"Gantt Chart\", \"hovermode\": \"closest\", \"yaxis\": {\"range\": [-1, 4], \"showgrid\": false, \"zeroline\": false, \"tickvals\": [0, 1, 2], \"autorange\": false, \"ticktext\": [\"Shuttles 3\", \"Shuttles 2\", \"Shuttles 1\"]}, \"height\": 600, \"showlegend\": true, \"xaxis\": {\"showgrid\": false, \"rangeselector\": {\"buttons\": [{\"label\": \"1w\", \"count\": 7, \"stepmode\": \"backward\", \"step\": \"day\"}, {\"label\": \"1m\", \"count\": 1, \"stepmode\": \"backward\", \"step\": \"month\"}, {\"label\": \"6m\", \"count\": 6, \"stepmode\": \"backward\", \"step\": \"month\"}, {\"label\": \"YTD\", \"count\": 1, \"stepmode\": \"todate\", \"step\": \"year\"}, {\"label\": \"1y\", \"count\": 1, \"stepmode\": \"backward\", \"step\": \"year\"}, {\"step\": \"all\"}]}, \"zeroline\": false, \"type\": \"date\"}, \"shapes\": [{\"y1\": 2.2, \"yref\": \"y\", \"xref\": \"x\", \"line\": {\"width\": 0}, \"x1\": \"2017-01-01 0:00:30\", \"x0\": \"2017-01-01 0:00:24\", \"y0\": 1.8, \"fillcolor\": \"rgb(18, 246, 119)\", \"opacity\": 1, \"type\": \"rect\"}, {\"y1\": 2.2, \"yref\": \"y\", \"xref\": \"x\", \"line\": {\"width\": 0}, \"x1\": \"2017-01-01 0:01:23\", \"x0\": \"2017-01-01 0:01:21\", \"y0\": 1.8, \"fillcolor\": \"rgb(18, 246, 119)\", \"opacity\": 1, \"type\": \"rect\"}, {\"y1\": 2.2, \"yref\": \"y\", \"xref\": \"x\", \"line\": {\"width\": 0}, \"x1\": \"2017-01-01 0:03:05\", \"x0\": \"2017-01-01 0:01:40\", \"y0\": 1.8, \"fillcolor\": \"rgb(60, 235, 145)\", \"opacity\": 1, \"type\": \"rect\"}, {\"y1\": 2.2, \"yref\": \"y\", \"xref\": \"x\", \"line\": {\"width\": 0}, \"x1\": \"2017-01-01 0:03:50\", \"x0\": \"2017-01-01 0:03:40\", \"y0\": 1.8, \"fillcolor\": \"rgb(18, 246, 119)\", \"opacity\": 1, \"type\": \"rect\"}, {\"y1\": 2.2, \"yref\": \"y\", \"xref\": \"x\", \"line\": {\"width\": 0}, \"x1\": \"2017-01-01 0:05:48\", \"x0\": \"2017-01-01 0:04:39\", \"y0\": 1.8, \"fillcolor\": \"rgb(114, 219, 0)\", \"opacity\": 1, \"type\": \"rect\"}, {\"y1\": 2.2, \"yref\": \"y\", \"xref\": \"x\", \"line\": {\"width\": 0}, \"x1\": \"2017-01-01 0:06:06\", \"x0\": \"2017-01-01 0:06:04\", \"y0\": 1.8, \"fillcolor\": \"rgb(181, 39, 128)\", \"opacity\": 1, \"type\": \"rect\"}, {\"y1\": 2.2, \"yref\": \"y\", \"xref\": \"x\", \"line\": {\"width\": 0}, \"x1\": \"2017-01-01 0:06:23\", \"x0\": \"2017-01-01 0:06:20\", \"y0\": 1.8, \"fillcolor\": \"rgb(114, 219, 0)\", \"opacity\": 1, \"type\": \"rect\"}, {\"y1\": 2.2, \"yref\": \"y\", \"xref\": \"x\", \"line\": {\"width\": 0}, \"x1\": \"2017-01-01 0:07:04\", \"x0\": \"2017-01-01 0:06:53\", \"y0\": 1.8, \"fillcolor\": \"rgb(114, 219, 0)\", \"opacity\": 1, \"type\": \"rect\"}, {\"y1\": 2.2, \"yref\": \"y\", \"xref\": \"x\", \"line\": {\"width\": 0}, \"x1\": \"2017-01-01 0:07:33\", \"x0\": \"2017-01-01 0:07:23\", \"y0\": 1.8, \"fillcolor\": \"rgb(114, 219, 0)\", \"opacity\": 1, \"type\": \"rect\"}, {\"y1\": 1.2, \"yref\": \"y\", \"xref\": \"x\", \"line\": {\"width\": 0}, \"x1\": \"2017-01-01 0:01:03\", \"x0\": \"2017-01-01 0:00:48\", \"y0\": 0.8, \"fillcolor\": \"rgb(60, 235, 145)\", \"opacity\": 1, \"type\": \"rect\"}, {\"y1\": 1.2, \"yref\": \"y\", \"xref\": \"x\", \"line\": {\"width\": 0}, \"x1\": \"2017-01-01 0:02:10\", \"x0\": \"2017-01-01 0:02:08\", \"y0\": 0.8, \"fillcolor\": \"rgb(18, 246, 119)\", \"opacity\": 1, \"type\": \"rect\"}, {\"y1\": 1.2, \"yref\": \"y\", \"xref\": \"x\", \"line\": {\"width\": 0}, \"x1\": \"2017-01-01 0:02:38\", \"x0\": \"2017-01-01 0:02:36\", \"y0\": 0.8, \"fillcolor\": \"rgb(18, 246, 119)\", \"opacity\": 1, \"type\": \"rect\"}, {\"y1\": 1.2, \"yref\": \"y\", \"xref\": \"x\", \"line\": {\"width\": 0}, \"x1\": \"2017-01-01 0:04:11\", \"x0\": \"2017-01-01 0:02:52\", \"y0\": 0.8, \"fillcolor\": \"rgb(181, 39, 128)\", \"opacity\": 1, \"type\": \"rect\"}, {\"y1\": 1.2, \"yref\": \"y\", \"xref\": \"x\", \"line\": {\"width\": 0}, \"x1\": \"2017-01-01 0:04:58\", \"x0\": \"2017-01-01 0:04:56\", \"y0\": 0.8, \"fillcolor\": \"rgb(18, 246, 119)\", \"opacity\": 1, \"type\": \"rect\"}, {\"y1\": 1.2, \"yref\": \"y\", \"xref\": \"x\", \"line\": {\"width\": 0}, \"x1\": \"2017-01-01 0:07:17\", \"x0\": \"2017-01-01 0:05:36\", \"y0\": 0.8, \"fillcolor\": \"rgb(60, 235, 145)\", \"opacity\": 1, \"type\": \"rect\"}, {\"y1\": 1.2, \"yref\": \"y\", \"xref\": \"x\", \"line\": {\"width\": 0}, \"x1\": \"2017-01-01 0:08:30\", \"x0\": \"2017-01-01 0:07:43\", \"y0\": 0.8, \"fillcolor\": \"rgb(60, 235, 145)\", \"opacity\": 1, \"type\": \"rect\"}, {\"y1\": 1.2, \"yref\": \"y\", \"xref\": \"x\", \"line\": {\"width\": 0}, \"x1\": \"2017-01-01 0:09:12\", \"x0\": \"2017-01-01 0:08:48\", \"y0\": 0.8, \"fillcolor\": \"rgb(60, 235, 145)\", \"opacity\": 1, \"type\": \"rect\"}, {\"y1\": 0.2, \"yref\": \"y\", \"xref\": \"x\", \"line\": {\"width\": 0}, \"x1\": \"2017-01-01 0:02:00\", \"x0\": \"2017-01-01 0:01:13\", \"y0\": -0.2, \"fillcolor\": \"rgb(181, 39, 128)\", \"opacity\": 1, \"type\": \"rect\"}, {\"y1\": 0.2, \"yref\": \"y\", \"xref\": \"x\", \"line\": {\"width\": 0}, \"x1\": \"2017-01-01 0:03:05\", \"x0\": \"2017-01-01 0:03:03\", \"y0\": -0.2, \"fillcolor\": \"rgb(18, 246, 119)\", \"opacity\": 1, \"type\": \"rect\"}, {\"y1\": 0.2, \"yref\": \"y\", \"xref\": \"x\", \"line\": {\"width\": 0}, \"x1\": \"2017-01-01 0:03:56\", \"x0\": \"2017-01-01 0:03:53\", \"y0\": -0.2, \"fillcolor\": \"rgb(60, 235, 145)\", \"opacity\": 1, \"type\": \"rect\"}, {\"y1\": 0.2, \"yref\": \"y\", \"xref\": \"x\", \"line\": {\"width\": 0}, \"x1\": \"2017-01-01 0:05:01\", \"x0\": \"2017-01-01 0:04:58\", \"y0\": -0.2, \"fillcolor\": \"rgb(60, 235, 145)\", \"opacity\": 1, \"type\": \"rect\"}, {\"y1\": 0.2, \"yref\": \"y\", \"xref\": \"x\", \"line\": {\"width\": 0}, \"x1\": \"2017-01-01 0:05:42\", \"x0\": \"2017-01-01 0:05:40\", \"y0\": -0.2, \"fillcolor\": \"rgb(181, 39, 128)\", \"opacity\": 1, \"type\": \"rect\"}, {\"y1\": 0.2, \"yref\": \"y\", \"xref\": \"x\", \"line\": {\"width\": 0}, \"x1\": \"2017-01-01 0:06:19\", \"x0\": \"2017-01-01 0:05:57\", \"y0\": -0.2, \"fillcolor\": \"rgb(18, 246, 119)\", \"opacity\": 1, \"type\": \"rect\"}, {\"y1\": 0.2, \"yref\": \"y\", \"xref\": \"x\", \"line\": {\"width\": 0}, \"x1\": \"2017-01-01 0:06:52\", \"x0\": \"2017-01-01 0:06:28\", \"y0\": -0.2, \"fillcolor\": \"rgb(181, 39, 128)\", \"opacity\": 1, \"type\": \"rect\"}, {\"y1\": 0.2, \"yref\": \"y\", \"xref\": \"x\", \"line\": {\"width\": 0}, \"x1\": \"2017-01-01 0:08:26\", \"x0\": \"2017-01-01 0:08:06\", \"y0\": -0.2, \"fillcolor\": \"rgb(114, 219, 0)\", \"opacity\": 1, \"type\": \"rect\"}, {\"y1\": 0.2, \"yref\": \"y\", \"xref\": \"x\", \"line\": {\"width\": 0}, \"x1\": \"2017-01-01 0:08:59\", \"x0\": \"2017-01-01 0:08:56\", \"y0\": -0.2, \"fillcolor\": \"rgb(114, 219, 0)\", \"opacity\": 1, \"type\": \"rect\"}, {\"y1\": 0.2, \"yref\": \"y\", \"xref\": \"x\", \"line\": {\"width\": 0}, \"x1\": \"2017-01-01 0:09:32\", \"x0\": \"2017-01-01 0:09:29\", \"y0\": -0.2, \"fillcolor\": \"rgb(114, 219, 0)\", \"opacity\": 1, \"type\": \"rect\"}, {\"y1\": 0.2, \"yref\": \"y\", \"xref\": \"x\", \"line\": {\"width\": 0}, \"x1\": \"2017-01-01 0:10:35\", \"x0\": \"2017-01-01 0:10:02\", \"y0\": -0.2, \"fillcolor\": \"rgb(114, 219, 0)\", \"opacity\": 1, \"type\": \"rect\"}], \"width\": 900}, {\"linkText\": \"Export to plot.ly\", \"showLink\": true})});</script>"
      ]
     },
     "metadata": {},
     "output_type": "display_data"
    }
   ],
   "source": [
    "uri = params['gantt_shuttles'] \n",
    "draw_gantt(uri, 'Shuttles')"
   ]
  },
  {
   "cell_type": "code",
   "execution_count": 5,
   "metadata": {},
   "outputs": [
    {
     "data": {
      "text/html": [
       "<script>requirejs.config({paths: { 'plotly': ['https://cdn.plot.ly/plotly-latest.min']},});if(!window.Plotly) {{require(['plotly'],function(plotly) {window.Plotly=plotly;});}}</script>"
      ],
      "text/vnd.plotly.v1+html": [
       "<script>requirejs.config({paths: { 'plotly': ['https://cdn.plot.ly/plotly-latest.min']},});if(!window.Plotly) {{require(['plotly'],function(plotly) {window.Plotly=plotly;});}}</script>"
      ]
     },
     "metadata": {},
     "output_type": "display_data"
    },
    {
     "data": {
      "application/vnd.plotly.v1+json": {
       "data": [
        {
         "marker": {
          "color": "white"
         },
         "name": "",
         "x": [
          "2017-01-01 0:00:00",
          "2017-01-01 0:00:24"
         ],
         "y": [
          3,
          3
         ]
        },
        {
         "marker": {
          "color": "white"
         },
         "name": "",
         "x": [
          "2017-01-01 0:00:24",
          "2017-01-01 0:00:48"
         ],
         "y": [
          3,
          3
         ]
        },
        {
         "marker": {
          "color": "white"
         },
         "name": "",
         "x": [
          "2017-01-01 0:00:49",
          "2017-01-01 0:01:13"
         ],
         "y": [
          3,
          3
         ]
        },
        {
         "marker": {
          "color": "white"
         },
         "name": "",
         "x": [
          "2017-01-01 0:04:15",
          "2017-01-01 0:04:39"
         ],
         "y": [
          3,
          3
         ]
        },
        {
         "marker": {
          "color": "white"
         },
         "name": "",
         "x": [
          "2017-01-01 0:06:03",
          "2017-01-01 0:06:19"
         ],
         "y": [
          3,
          3
         ]
        },
        {
         "marker": {
          "color": "white"
         },
         "name": "",
         "x": [
          "2017-01-01 0:06:36",
          "2017-01-01 0:06:52"
         ],
         "y": [
          3,
          3
         ]
        },
        {
         "marker": {
          "color": "white"
         },
         "name": "",
         "x": [
          "2017-01-01 0:08:56",
          "2017-01-01 0:09:12"
         ],
         "y": [
          3,
          3
         ]
        },
        {
         "marker": {
          "color": "white"
         },
         "name": "",
         "x": [
          "2017-01-01 0:10:19",
          "2017-01-01 0:10:35"
         ],
         "y": [
          3,
          3
         ]
        },
        {
         "marker": {
          "color": "white"
         },
         "name": "",
         "x": [
          "2017-01-01 0:00:30",
          "2017-01-01 0:01:23"
         ],
         "y": [
          2,
          2
         ]
        },
        {
         "marker": {
          "color": "white"
         },
         "name": "",
         "x": [
          "2017-01-01 0:02:10",
          "2017-01-01 0:02:38"
         ],
         "y": [
          2,
          2
         ]
        },
        {
         "marker": {
          "color": "white"
         },
         "name": "",
         "x": [
          "2017-01-01 0:03:05",
          "2017-01-01 0:04:11"
         ],
         "y": [
          2,
          2
         ]
        },
        {
         "marker": {
          "color": "white"
         },
         "name": "",
         "x": [
          "2017-01-01 0:05:42",
          "2017-01-01 0:06:06"
         ],
         "y": [
          2,
          2
         ]
        },
        {
         "marker": {
          "color": "white"
         },
         "name": "",
         "x": [
          "2017-01-01 0:07:04",
          "2017-01-01 0:08:30"
         ],
         "y": [
          2,
          2
         ]
        },
        {
         "marker": {
          "color": "white"
         },
         "name": "",
         "x": [
          "2017-01-01 0:01:03",
          "2017-01-01 0:02:00"
         ],
         "y": [
          1,
          1
         ]
        },
        {
         "marker": {
          "color": "white"
         },
         "name": "",
         "x": [
          "2017-01-01 0:03:05",
          "2017-01-01 0:03:56"
         ],
         "y": [
          1,
          1
         ]
        },
        {
         "marker": {
          "color": "white"
         },
         "name": "",
         "x": [
          "2017-01-01 0:05:01",
          "2017-01-01 0:05:48"
         ],
         "y": [
          1,
          1
         ]
        },
        {
         "marker": {
          "color": "white"
         },
         "name": "",
         "x": [
          "2017-01-01 0:06:23",
          "2017-01-01 0:07:17"
         ],
         "y": [
          1,
          1
         ]
        },
        {
         "marker": {
          "color": "white"
         },
         "name": "",
         "x": [
          "2017-01-01 0:08:26",
          "2017-01-01 0:08:59"
         ],
         "y": [
          1,
          1
         ]
        },
        {
         "marker": {
          "color": "white"
         },
         "name": "",
         "x": [
          "2017-01-01 0:03:50",
          "2017-01-01 0:04:58"
         ],
         "y": [
          0,
          0
         ]
        },
        {
         "hoverinfo": "none",
         "marker": {
          "color": "rgb(145, 243, 59)",
          "size": 1
         },
         "name": "Sub product 0",
         "showlegend": true,
         "x": [
          "2017-01-01 0:03:50",
          "2017-01-01 0:03:50"
         ],
         "y": [
          0,
          0
         ]
        },
        {
         "hoverinfo": "none",
         "marker": {
          "color": "rgb(72, 250, 123)",
          "size": 1
         },
         "name": "Sub product 1",
         "showlegend": true,
         "x": [
          "2017-01-01 0:03:50",
          "2017-01-01 0:03:50"
         ],
         "y": [
          1,
          1
         ]
        },
        {
         "hoverinfo": "none",
         "marker": {
          "color": "rgb(225, 8, 121)",
          "size": 1
         },
         "name": "Sub product 2",
         "showlegend": true,
         "x": [
          "2017-01-01 0:03:50",
          "2017-01-01 0:03:50"
         ],
         "y": [
          2,
          2
         ]
        },
        {
         "hoverinfo": "none",
         "marker": {
          "color": "rgb(201, 47, 134)",
          "size": 1
         },
         "name": "Sub product 3",
         "showlegend": true,
         "x": [
          "2017-01-01 0:03:50",
          "2017-01-01 0:03:50"
         ],
         "y": [
          3,
          3
         ]
        }
       ],
       "layout": {
        "height": 600,
        "hovermode": "closest",
        "shapes": [
         {
          "fillcolor": "rgb(145, 243, 59)",
          "line": {
           "width": 0
          },
          "opacity": 1,
          "type": "rect",
          "x0": "2017-01-01 0:00:00",
          "x1": "2017-01-01 0:00:24",
          "xref": "x",
          "y0": 2.8,
          "y1": 3.2,
          "yref": "y"
         },
         {
          "fillcolor": "rgb(72, 250, 123)",
          "line": {
           "width": 0
          },
          "opacity": 1,
          "type": "rect",
          "x0": "2017-01-01 0:00:24",
          "x1": "2017-01-01 0:00:48",
          "xref": "x",
          "y0": 2.8,
          "y1": 3.2,
          "yref": "y"
         },
         {
          "fillcolor": "rgb(201, 47, 134)",
          "line": {
           "width": 0
          },
          "opacity": 1,
          "type": "rect",
          "x0": "2017-01-01 0:00:49",
          "x1": "2017-01-01 0:01:13",
          "xref": "x",
          "y0": 2.8,
          "y1": 3.2,
          "yref": "y"
         },
         {
          "fillcolor": "rgb(225, 8, 121)",
          "line": {
           "width": 0
          },
          "opacity": 1,
          "type": "rect",
          "x0": "2017-01-01 0:04:15",
          "x1": "2017-01-01 0:04:39",
          "xref": "x",
          "y0": 2.8,
          "y1": 3.2,
          "yref": "y"
         },
         {
          "fillcolor": "rgb(145, 243, 59)",
          "line": {
           "width": 0
          },
          "opacity": 1,
          "type": "rect",
          "x0": "2017-01-01 0:06:03",
          "x1": "2017-01-01 0:06:19",
          "xref": "x",
          "y0": 2.8,
          "y1": 3.2,
          "yref": "y"
         },
         {
          "fillcolor": "rgb(201, 47, 134)",
          "line": {
           "width": 0
          },
          "opacity": 1,
          "type": "rect",
          "x0": "2017-01-01 0:06:36",
          "x1": "2017-01-01 0:06:52",
          "xref": "x",
          "y0": 2.8,
          "y1": 3.2,
          "yref": "y"
         },
         {
          "fillcolor": "rgb(72, 250, 123)",
          "line": {
           "width": 0
          },
          "opacity": 1,
          "type": "rect",
          "x0": "2017-01-01 0:08:56",
          "x1": "2017-01-01 0:09:12",
          "xref": "x",
          "y0": 2.8,
          "y1": 3.2,
          "yref": "y"
         },
         {
          "fillcolor": "rgb(225, 8, 121)",
          "line": {
           "width": 0
          },
          "opacity": 1,
          "type": "rect",
          "x0": "2017-01-01 0:10:19",
          "x1": "2017-01-01 0:10:35",
          "xref": "x",
          "y0": 2.8,
          "y1": 3.2,
          "yref": "y"
         },
         {
          "fillcolor": "rgb(145, 243, 59)",
          "line": {
           "width": 0
          },
          "opacity": 1,
          "type": "rect",
          "x0": "2017-01-01 0:00:30",
          "x1": "2017-01-01 0:01:23",
          "xref": "x",
          "y0": 1.8,
          "y1": 2.2,
          "yref": "y"
         },
         {
          "fillcolor": "rgb(145, 243, 59)",
          "line": {
           "width": 0
          },
          "opacity": 1,
          "type": "rect",
          "x0": "2017-01-01 0:02:10",
          "x1": "2017-01-01 0:02:38",
          "xref": "x",
          "y0": 1.8,
          "y1": 2.2,
          "yref": "y"
         },
         {
          "fillcolor": "rgb(201, 47, 134)",
          "line": {
           "width": 0
          },
          "opacity": 1,
          "type": "rect",
          "x0": "2017-01-01 0:03:05",
          "x1": "2017-01-01 0:04:11",
          "xref": "x",
          "y0": 1.8,
          "y1": 2.2,
          "yref": "y"
         },
         {
          "fillcolor": "rgb(201, 47, 134)",
          "line": {
           "width": 0
          },
          "opacity": 1,
          "type": "rect",
          "x0": "2017-01-01 0:05:42",
          "x1": "2017-01-01 0:06:06",
          "xref": "x",
          "y0": 1.8,
          "y1": 2.2,
          "yref": "y"
         },
         {
          "fillcolor": "rgb(72, 250, 123)",
          "line": {
           "width": 0
          },
          "opacity": 1,
          "type": "rect",
          "x0": "2017-01-01 0:07:04",
          "x1": "2017-01-01 0:08:30",
          "xref": "x",
          "y0": 1.8,
          "y1": 2.2,
          "yref": "y"
         },
         {
          "fillcolor": "rgb(201, 47, 134)",
          "line": {
           "width": 0
          },
          "opacity": 1,
          "type": "rect",
          "x0": "2017-01-01 0:01:03",
          "x1": "2017-01-01 0:02:00",
          "xref": "x",
          "y0": 0.8,
          "y1": 1.2,
          "yref": "y"
         },
         {
          "fillcolor": "rgb(72, 250, 123)",
          "line": {
           "width": 0
          },
          "opacity": 1,
          "type": "rect",
          "x0": "2017-01-01 0:03:05",
          "x1": "2017-01-01 0:03:56",
          "xref": "x",
          "y0": 0.8,
          "y1": 1.2,
          "yref": "y"
         },
         {
          "fillcolor": "rgb(225, 8, 121)",
          "line": {
           "width": 0
          },
          "opacity": 1,
          "type": "rect",
          "x0": "2017-01-01 0:05:01",
          "x1": "2017-01-01 0:05:48",
          "xref": "x",
          "y0": 0.8,
          "y1": 1.2,
          "yref": "y"
         },
         {
          "fillcolor": "rgb(72, 250, 123)",
          "line": {
           "width": 0
          },
          "opacity": 1,
          "type": "rect",
          "x0": "2017-01-01 0:06:23",
          "x1": "2017-01-01 0:07:17",
          "xref": "x",
          "y0": 0.8,
          "y1": 1.2,
          "yref": "y"
         },
         {
          "fillcolor": "rgb(225, 8, 121)",
          "line": {
           "width": 0
          },
          "opacity": 1,
          "type": "rect",
          "x0": "2017-01-01 0:08:26",
          "x1": "2017-01-01 0:08:59",
          "xref": "x",
          "y0": 0.8,
          "y1": 1.2,
          "yref": "y"
         },
         {
          "fillcolor": "rgb(145, 243, 59)",
          "line": {
           "width": 0
          },
          "opacity": 1,
          "type": "rect",
          "x0": "2017-01-01 0:03:50",
          "x1": "2017-01-01 0:04:58",
          "xref": "x",
          "y0": -0.2,
          "y1": 0.2,
          "yref": "y"
         }
        ],
        "showlegend": true,
        "title": "Gantt Chart",
        "width": 900,
        "xaxis": {
         "rangeselector": {
          "buttons": [
           {
            "count": 7,
            "label": "1w",
            "step": "day",
            "stepmode": "backward"
           },
           {
            "count": 1,
            "label": "1m",
            "step": "month",
            "stepmode": "backward"
           },
           {
            "count": 6,
            "label": "6m",
            "step": "month",
            "stepmode": "backward"
           },
           {
            "count": 1,
            "label": "YTD",
            "step": "year",
            "stepmode": "todate"
           },
           {
            "count": 1,
            "label": "1y",
            "step": "year",
            "stepmode": "backward"
           },
           {
            "step": "all"
           }
          ]
         },
         "showgrid": false,
         "type": "date",
         "zeroline": false
        },
        "yaxis": {
         "autorange": false,
         "range": [
          -1,
          5
         ],
         "showgrid": false,
         "ticktext": [
          "Machines 7",
          "Machines 3",
          "Machines 2",
          "Machines 1"
         ],
         "tickvals": [
          0,
          1,
          2,
          3
         ],
         "zeroline": false
        }
       }
      },
      "text/html": [
       "<div id=\"e446b9b7-9bf1-40e2-a26c-16a31fd78f40\" style=\"height: 600px; width: 900px;\" class=\"plotly-graph-div\"></div><script type=\"text/javascript\">require([\"plotly\"], function(Plotly) { window.PLOTLYENV=window.PLOTLYENV || {};window.PLOTLYENV.BASE_URL=\"https://plot.ly\";Plotly.newPlot(\"e446b9b7-9bf1-40e2-a26c-16a31fd78f40\", [{\"x\": [\"2017-01-01 0:00:00\", \"2017-01-01 0:00:24\"], \"y\": [3, 3], \"name\": \"\", \"marker\": {\"color\": \"white\"}}, {\"x\": [\"2017-01-01 0:00:24\", \"2017-01-01 0:00:48\"], \"y\": [3, 3], \"name\": \"\", \"marker\": {\"color\": \"white\"}}, {\"x\": [\"2017-01-01 0:00:49\", \"2017-01-01 0:01:13\"], \"y\": [3, 3], \"name\": \"\", \"marker\": {\"color\": \"white\"}}, {\"x\": [\"2017-01-01 0:04:15\", \"2017-01-01 0:04:39\"], \"y\": [3, 3], \"name\": \"\", \"marker\": {\"color\": \"white\"}}, {\"x\": [\"2017-01-01 0:06:03\", \"2017-01-01 0:06:19\"], \"y\": [3, 3], \"name\": \"\", \"marker\": {\"color\": \"white\"}}, {\"x\": [\"2017-01-01 0:06:36\", \"2017-01-01 0:06:52\"], \"y\": [3, 3], \"name\": \"\", \"marker\": {\"color\": \"white\"}}, {\"x\": [\"2017-01-01 0:08:56\", \"2017-01-01 0:09:12\"], \"y\": [3, 3], \"name\": \"\", \"marker\": {\"color\": \"white\"}}, {\"x\": [\"2017-01-01 0:10:19\", \"2017-01-01 0:10:35\"], \"y\": [3, 3], \"name\": \"\", \"marker\": {\"color\": \"white\"}}, {\"x\": [\"2017-01-01 0:00:30\", \"2017-01-01 0:01:23\"], \"y\": [2, 2], \"name\": \"\", \"marker\": {\"color\": \"white\"}}, {\"x\": [\"2017-01-01 0:02:10\", \"2017-01-01 0:02:38\"], \"y\": [2, 2], \"name\": \"\", \"marker\": {\"color\": \"white\"}}, {\"x\": [\"2017-01-01 0:03:05\", \"2017-01-01 0:04:11\"], \"y\": [2, 2], \"name\": \"\", \"marker\": {\"color\": \"white\"}}, {\"x\": [\"2017-01-01 0:05:42\", \"2017-01-01 0:06:06\"], \"y\": [2, 2], \"name\": \"\", \"marker\": {\"color\": \"white\"}}, {\"x\": [\"2017-01-01 0:07:04\", \"2017-01-01 0:08:30\"], \"y\": [2, 2], \"name\": \"\", \"marker\": {\"color\": \"white\"}}, {\"x\": [\"2017-01-01 0:01:03\", \"2017-01-01 0:02:00\"], \"y\": [1, 1], \"name\": \"\", \"marker\": {\"color\": \"white\"}}, {\"x\": [\"2017-01-01 0:03:05\", \"2017-01-01 0:03:56\"], \"y\": [1, 1], \"name\": \"\", \"marker\": {\"color\": \"white\"}}, {\"x\": [\"2017-01-01 0:05:01\", \"2017-01-01 0:05:48\"], \"y\": [1, 1], \"name\": \"\", \"marker\": {\"color\": \"white\"}}, {\"x\": [\"2017-01-01 0:06:23\", \"2017-01-01 0:07:17\"], \"y\": [1, 1], \"name\": \"\", \"marker\": {\"color\": \"white\"}}, {\"x\": [\"2017-01-01 0:08:26\", \"2017-01-01 0:08:59\"], \"y\": [1, 1], \"name\": \"\", \"marker\": {\"color\": \"white\"}}, {\"x\": [\"2017-01-01 0:03:50\", \"2017-01-01 0:04:58\"], \"y\": [0, 0], \"name\": \"\", \"marker\": {\"color\": \"white\"}}, {\"x\": [\"2017-01-01 0:03:50\", \"2017-01-01 0:03:50\"], \"name\": \"Sub product 0\", \"hoverinfo\": \"none\", \"y\": [0, 0], \"marker\": {\"color\": \"rgb(145, 243, 59)\", \"size\": 1}, \"showlegend\": true}, {\"x\": [\"2017-01-01 0:03:50\", \"2017-01-01 0:03:50\"], \"name\": \"Sub product 1\", \"hoverinfo\": \"none\", \"y\": [1, 1], \"marker\": {\"color\": \"rgb(72, 250, 123)\", \"size\": 1}, \"showlegend\": true}, {\"x\": [\"2017-01-01 0:03:50\", \"2017-01-01 0:03:50\"], \"name\": \"Sub product 2\", \"hoverinfo\": \"none\", \"y\": [2, 2], \"marker\": {\"color\": \"rgb(225, 8, 121)\", \"size\": 1}, \"showlegend\": true}, {\"x\": [\"2017-01-01 0:03:50\", \"2017-01-01 0:03:50\"], \"name\": \"Sub product 3\", \"hoverinfo\": \"none\", \"y\": [3, 3], \"marker\": {\"color\": \"rgb(201, 47, 134)\", \"size\": 1}, \"showlegend\": true}], {\"title\": \"Gantt Chart\", \"hovermode\": \"closest\", \"yaxis\": {\"range\": [-1, 5], \"showgrid\": false, \"zeroline\": false, \"tickvals\": [0, 1, 2, 3], \"autorange\": false, \"ticktext\": [\"Machines 7\", \"Machines 3\", \"Machines 2\", \"Machines 1\"]}, \"height\": 600, \"showlegend\": true, \"xaxis\": {\"showgrid\": false, \"rangeselector\": {\"buttons\": [{\"label\": \"1w\", \"count\": 7, \"stepmode\": \"backward\", \"step\": \"day\"}, {\"label\": \"1m\", \"count\": 1, \"stepmode\": \"backward\", \"step\": \"month\"}, {\"label\": \"6m\", \"count\": 6, \"stepmode\": \"backward\", \"step\": \"month\"}, {\"label\": \"YTD\", \"count\": 1, \"stepmode\": \"todate\", \"step\": \"year\"}, {\"label\": \"1y\", \"count\": 1, \"stepmode\": \"backward\", \"step\": \"year\"}, {\"step\": \"all\"}]}, \"zeroline\": false, \"type\": \"date\"}, \"shapes\": [{\"y1\": 3.2, \"yref\": \"y\", \"xref\": \"x\", \"line\": {\"width\": 0}, \"x1\": \"2017-01-01 0:00:24\", \"x0\": \"2017-01-01 0:00:00\", \"y0\": 2.8, \"fillcolor\": \"rgb(145, 243, 59)\", \"opacity\": 1, \"type\": \"rect\"}, {\"y1\": 3.2, \"yref\": \"y\", \"xref\": \"x\", \"line\": {\"width\": 0}, \"x1\": \"2017-01-01 0:00:48\", \"x0\": \"2017-01-01 0:00:24\", \"y0\": 2.8, \"fillcolor\": \"rgb(72, 250, 123)\", \"opacity\": 1, \"type\": \"rect\"}, {\"y1\": 3.2, \"yref\": \"y\", \"xref\": \"x\", \"line\": {\"width\": 0}, \"x1\": \"2017-01-01 0:01:13\", \"x0\": \"2017-01-01 0:00:49\", \"y0\": 2.8, \"fillcolor\": \"rgb(201, 47, 134)\", \"opacity\": 1, \"type\": \"rect\"}, {\"y1\": 3.2, \"yref\": \"y\", \"xref\": \"x\", \"line\": {\"width\": 0}, \"x1\": \"2017-01-01 0:04:39\", \"x0\": \"2017-01-01 0:04:15\", \"y0\": 2.8, \"fillcolor\": \"rgb(225, 8, 121)\", \"opacity\": 1, \"type\": \"rect\"}, {\"y1\": 3.2, \"yref\": \"y\", \"xref\": \"x\", \"line\": {\"width\": 0}, \"x1\": \"2017-01-01 0:06:19\", \"x0\": \"2017-01-01 0:06:03\", \"y0\": 2.8, \"fillcolor\": \"rgb(145, 243, 59)\", \"opacity\": 1, \"type\": \"rect\"}, {\"y1\": 3.2, \"yref\": \"y\", \"xref\": \"x\", \"line\": {\"width\": 0}, \"x1\": \"2017-01-01 0:06:52\", \"x0\": \"2017-01-01 0:06:36\", \"y0\": 2.8, \"fillcolor\": \"rgb(201, 47, 134)\", \"opacity\": 1, \"type\": \"rect\"}, {\"y1\": 3.2, \"yref\": \"y\", \"xref\": \"x\", \"line\": {\"width\": 0}, \"x1\": \"2017-01-01 0:09:12\", \"x0\": \"2017-01-01 0:08:56\", \"y0\": 2.8, \"fillcolor\": \"rgb(72, 250, 123)\", \"opacity\": 1, \"type\": \"rect\"}, {\"y1\": 3.2, \"yref\": \"y\", \"xref\": \"x\", \"line\": {\"width\": 0}, \"x1\": \"2017-01-01 0:10:35\", \"x0\": \"2017-01-01 0:10:19\", \"y0\": 2.8, \"fillcolor\": \"rgb(225, 8, 121)\", \"opacity\": 1, \"type\": \"rect\"}, {\"y1\": 2.2, \"yref\": \"y\", \"xref\": \"x\", \"line\": {\"width\": 0}, \"x1\": \"2017-01-01 0:01:23\", \"x0\": \"2017-01-01 0:00:30\", \"y0\": 1.8, \"fillcolor\": \"rgb(145, 243, 59)\", \"opacity\": 1, \"type\": \"rect\"}, {\"y1\": 2.2, \"yref\": \"y\", \"xref\": \"x\", \"line\": {\"width\": 0}, \"x1\": \"2017-01-01 0:02:38\", \"x0\": \"2017-01-01 0:02:10\", \"y0\": 1.8, \"fillcolor\": \"rgb(145, 243, 59)\", \"opacity\": 1, \"type\": \"rect\"}, {\"y1\": 2.2, \"yref\": \"y\", \"xref\": \"x\", \"line\": {\"width\": 0}, \"x1\": \"2017-01-01 0:04:11\", \"x0\": \"2017-01-01 0:03:05\", \"y0\": 1.8, \"fillcolor\": \"rgb(201, 47, 134)\", \"opacity\": 1, \"type\": \"rect\"}, {\"y1\": 2.2, \"yref\": \"y\", \"xref\": \"x\", \"line\": {\"width\": 0}, \"x1\": \"2017-01-01 0:06:06\", \"x0\": \"2017-01-01 0:05:42\", \"y0\": 1.8, \"fillcolor\": \"rgb(201, 47, 134)\", \"opacity\": 1, \"type\": \"rect\"}, {\"y1\": 2.2, \"yref\": \"y\", \"xref\": \"x\", \"line\": {\"width\": 0}, \"x1\": \"2017-01-01 0:08:30\", \"x0\": \"2017-01-01 0:07:04\", \"y0\": 1.8, \"fillcolor\": \"rgb(72, 250, 123)\", \"opacity\": 1, \"type\": \"rect\"}, {\"y1\": 1.2, \"yref\": \"y\", \"xref\": \"x\", \"line\": {\"width\": 0}, \"x1\": \"2017-01-01 0:02:00\", \"x0\": \"2017-01-01 0:01:03\", \"y0\": 0.8, \"fillcolor\": \"rgb(201, 47, 134)\", \"opacity\": 1, \"type\": \"rect\"}, {\"y1\": 1.2, \"yref\": \"y\", \"xref\": \"x\", \"line\": {\"width\": 0}, \"x1\": \"2017-01-01 0:03:56\", \"x0\": \"2017-01-01 0:03:05\", \"y0\": 0.8, \"fillcolor\": \"rgb(72, 250, 123)\", \"opacity\": 1, \"type\": \"rect\"}, {\"y1\": 1.2, \"yref\": \"y\", \"xref\": \"x\", \"line\": {\"width\": 0}, \"x1\": \"2017-01-01 0:05:48\", \"x0\": \"2017-01-01 0:05:01\", \"y0\": 0.8, \"fillcolor\": \"rgb(225, 8, 121)\", \"opacity\": 1, \"type\": \"rect\"}, {\"y1\": 1.2, \"yref\": \"y\", \"xref\": \"x\", \"line\": {\"width\": 0}, \"x1\": \"2017-01-01 0:07:17\", \"x0\": \"2017-01-01 0:06:23\", \"y0\": 0.8, \"fillcolor\": \"rgb(72, 250, 123)\", \"opacity\": 1, \"type\": \"rect\"}, {\"y1\": 1.2, \"yref\": \"y\", \"xref\": \"x\", \"line\": {\"width\": 0}, \"x1\": \"2017-01-01 0:08:59\", \"x0\": \"2017-01-01 0:08:26\", \"y0\": 0.8, \"fillcolor\": \"rgb(225, 8, 121)\", \"opacity\": 1, \"type\": \"rect\"}, {\"y1\": 0.2, \"yref\": \"y\", \"xref\": \"x\", \"line\": {\"width\": 0}, \"x1\": \"2017-01-01 0:04:58\", \"x0\": \"2017-01-01 0:03:50\", \"y0\": -0.2, \"fillcolor\": \"rgb(145, 243, 59)\", \"opacity\": 1, \"type\": \"rect\"}], \"width\": 900}, {\"linkText\": \"Export to plot.ly\", \"showLink\": true})});</script>"
      ],
      "text/vnd.plotly.v1+html": [
       "<div id=\"e446b9b7-9bf1-40e2-a26c-16a31fd78f40\" style=\"height: 600px; width: 900px;\" class=\"plotly-graph-div\"></div><script type=\"text/javascript\">require([\"plotly\"], function(Plotly) { window.PLOTLYENV=window.PLOTLYENV || {};window.PLOTLYENV.BASE_URL=\"https://plot.ly\";Plotly.newPlot(\"e446b9b7-9bf1-40e2-a26c-16a31fd78f40\", [{\"x\": [\"2017-01-01 0:00:00\", \"2017-01-01 0:00:24\"], \"y\": [3, 3], \"name\": \"\", \"marker\": {\"color\": \"white\"}}, {\"x\": [\"2017-01-01 0:00:24\", \"2017-01-01 0:00:48\"], \"y\": [3, 3], \"name\": \"\", \"marker\": {\"color\": \"white\"}}, {\"x\": [\"2017-01-01 0:00:49\", \"2017-01-01 0:01:13\"], \"y\": [3, 3], \"name\": \"\", \"marker\": {\"color\": \"white\"}}, {\"x\": [\"2017-01-01 0:04:15\", \"2017-01-01 0:04:39\"], \"y\": [3, 3], \"name\": \"\", \"marker\": {\"color\": \"white\"}}, {\"x\": [\"2017-01-01 0:06:03\", \"2017-01-01 0:06:19\"], \"y\": [3, 3], \"name\": \"\", \"marker\": {\"color\": \"white\"}}, {\"x\": [\"2017-01-01 0:06:36\", \"2017-01-01 0:06:52\"], \"y\": [3, 3], \"name\": \"\", \"marker\": {\"color\": \"white\"}}, {\"x\": [\"2017-01-01 0:08:56\", \"2017-01-01 0:09:12\"], \"y\": [3, 3], \"name\": \"\", \"marker\": {\"color\": \"white\"}}, {\"x\": [\"2017-01-01 0:10:19\", \"2017-01-01 0:10:35\"], \"y\": [3, 3], \"name\": \"\", \"marker\": {\"color\": \"white\"}}, {\"x\": [\"2017-01-01 0:00:30\", \"2017-01-01 0:01:23\"], \"y\": [2, 2], \"name\": \"\", \"marker\": {\"color\": \"white\"}}, {\"x\": [\"2017-01-01 0:02:10\", \"2017-01-01 0:02:38\"], \"y\": [2, 2], \"name\": \"\", \"marker\": {\"color\": \"white\"}}, {\"x\": [\"2017-01-01 0:03:05\", \"2017-01-01 0:04:11\"], \"y\": [2, 2], \"name\": \"\", \"marker\": {\"color\": \"white\"}}, {\"x\": [\"2017-01-01 0:05:42\", \"2017-01-01 0:06:06\"], \"y\": [2, 2], \"name\": \"\", \"marker\": {\"color\": \"white\"}}, {\"x\": [\"2017-01-01 0:07:04\", \"2017-01-01 0:08:30\"], \"y\": [2, 2], \"name\": \"\", \"marker\": {\"color\": \"white\"}}, {\"x\": [\"2017-01-01 0:01:03\", \"2017-01-01 0:02:00\"], \"y\": [1, 1], \"name\": \"\", \"marker\": {\"color\": \"white\"}}, {\"x\": [\"2017-01-01 0:03:05\", \"2017-01-01 0:03:56\"], \"y\": [1, 1], \"name\": \"\", \"marker\": {\"color\": \"white\"}}, {\"x\": [\"2017-01-01 0:05:01\", \"2017-01-01 0:05:48\"], \"y\": [1, 1], \"name\": \"\", \"marker\": {\"color\": \"white\"}}, {\"x\": [\"2017-01-01 0:06:23\", \"2017-01-01 0:07:17\"], \"y\": [1, 1], \"name\": \"\", \"marker\": {\"color\": \"white\"}}, {\"x\": [\"2017-01-01 0:08:26\", \"2017-01-01 0:08:59\"], \"y\": [1, 1], \"name\": \"\", \"marker\": {\"color\": \"white\"}}, {\"x\": [\"2017-01-01 0:03:50\", \"2017-01-01 0:04:58\"], \"y\": [0, 0], \"name\": \"\", \"marker\": {\"color\": \"white\"}}, {\"x\": [\"2017-01-01 0:03:50\", \"2017-01-01 0:03:50\"], \"name\": \"Sub product 0\", \"hoverinfo\": \"none\", \"y\": [0, 0], \"marker\": {\"color\": \"rgb(145, 243, 59)\", \"size\": 1}, \"showlegend\": true}, {\"x\": [\"2017-01-01 0:03:50\", \"2017-01-01 0:03:50\"], \"name\": \"Sub product 1\", \"hoverinfo\": \"none\", \"y\": [1, 1], \"marker\": {\"color\": \"rgb(72, 250, 123)\", \"size\": 1}, \"showlegend\": true}, {\"x\": [\"2017-01-01 0:03:50\", \"2017-01-01 0:03:50\"], \"name\": \"Sub product 2\", \"hoverinfo\": \"none\", \"y\": [2, 2], \"marker\": {\"color\": \"rgb(225, 8, 121)\", \"size\": 1}, \"showlegend\": true}, {\"x\": [\"2017-01-01 0:03:50\", \"2017-01-01 0:03:50\"], \"name\": \"Sub product 3\", \"hoverinfo\": \"none\", \"y\": [3, 3], \"marker\": {\"color\": \"rgb(201, 47, 134)\", \"size\": 1}, \"showlegend\": true}], {\"title\": \"Gantt Chart\", \"hovermode\": \"closest\", \"yaxis\": {\"range\": [-1, 5], \"showgrid\": false, \"zeroline\": false, \"tickvals\": [0, 1, 2, 3], \"autorange\": false, \"ticktext\": [\"Machines 7\", \"Machines 3\", \"Machines 2\", \"Machines 1\"]}, \"height\": 600, \"showlegend\": true, \"xaxis\": {\"showgrid\": false, \"rangeselector\": {\"buttons\": [{\"label\": \"1w\", \"count\": 7, \"stepmode\": \"backward\", \"step\": \"day\"}, {\"label\": \"1m\", \"count\": 1, \"stepmode\": \"backward\", \"step\": \"month\"}, {\"label\": \"6m\", \"count\": 6, \"stepmode\": \"backward\", \"step\": \"month\"}, {\"label\": \"YTD\", \"count\": 1, \"stepmode\": \"todate\", \"step\": \"year\"}, {\"label\": \"1y\", \"count\": 1, \"stepmode\": \"backward\", \"step\": \"year\"}, {\"step\": \"all\"}]}, \"zeroline\": false, \"type\": \"date\"}, \"shapes\": [{\"y1\": 3.2, \"yref\": \"y\", \"xref\": \"x\", \"line\": {\"width\": 0}, \"x1\": \"2017-01-01 0:00:24\", \"x0\": \"2017-01-01 0:00:00\", \"y0\": 2.8, \"fillcolor\": \"rgb(145, 243, 59)\", \"opacity\": 1, \"type\": \"rect\"}, {\"y1\": 3.2, \"yref\": \"y\", \"xref\": \"x\", \"line\": {\"width\": 0}, \"x1\": \"2017-01-01 0:00:48\", \"x0\": \"2017-01-01 0:00:24\", \"y0\": 2.8, \"fillcolor\": \"rgb(72, 250, 123)\", \"opacity\": 1, \"type\": \"rect\"}, {\"y1\": 3.2, \"yref\": \"y\", \"xref\": \"x\", \"line\": {\"width\": 0}, \"x1\": \"2017-01-01 0:01:13\", \"x0\": \"2017-01-01 0:00:49\", \"y0\": 2.8, \"fillcolor\": \"rgb(201, 47, 134)\", \"opacity\": 1, \"type\": \"rect\"}, {\"y1\": 3.2, \"yref\": \"y\", \"xref\": \"x\", \"line\": {\"width\": 0}, \"x1\": \"2017-01-01 0:04:39\", \"x0\": \"2017-01-01 0:04:15\", \"y0\": 2.8, \"fillcolor\": \"rgb(225, 8, 121)\", \"opacity\": 1, \"type\": \"rect\"}, {\"y1\": 3.2, \"yref\": \"y\", \"xref\": \"x\", \"line\": {\"width\": 0}, \"x1\": \"2017-01-01 0:06:19\", \"x0\": \"2017-01-01 0:06:03\", \"y0\": 2.8, \"fillcolor\": \"rgb(145, 243, 59)\", \"opacity\": 1, \"type\": \"rect\"}, {\"y1\": 3.2, \"yref\": \"y\", \"xref\": \"x\", \"line\": {\"width\": 0}, \"x1\": \"2017-01-01 0:06:52\", \"x0\": \"2017-01-01 0:06:36\", \"y0\": 2.8, \"fillcolor\": \"rgb(201, 47, 134)\", \"opacity\": 1, \"type\": \"rect\"}, {\"y1\": 3.2, \"yref\": \"y\", \"xref\": \"x\", \"line\": {\"width\": 0}, \"x1\": \"2017-01-01 0:09:12\", \"x0\": \"2017-01-01 0:08:56\", \"y0\": 2.8, \"fillcolor\": \"rgb(72, 250, 123)\", \"opacity\": 1, \"type\": \"rect\"}, {\"y1\": 3.2, \"yref\": \"y\", \"xref\": \"x\", \"line\": {\"width\": 0}, \"x1\": \"2017-01-01 0:10:35\", \"x0\": \"2017-01-01 0:10:19\", \"y0\": 2.8, \"fillcolor\": \"rgb(225, 8, 121)\", \"opacity\": 1, \"type\": \"rect\"}, {\"y1\": 2.2, \"yref\": \"y\", \"xref\": \"x\", \"line\": {\"width\": 0}, \"x1\": \"2017-01-01 0:01:23\", \"x0\": \"2017-01-01 0:00:30\", \"y0\": 1.8, \"fillcolor\": \"rgb(145, 243, 59)\", \"opacity\": 1, \"type\": \"rect\"}, {\"y1\": 2.2, \"yref\": \"y\", \"xref\": \"x\", \"line\": {\"width\": 0}, \"x1\": \"2017-01-01 0:02:38\", \"x0\": \"2017-01-01 0:02:10\", \"y0\": 1.8, \"fillcolor\": \"rgb(145, 243, 59)\", \"opacity\": 1, \"type\": \"rect\"}, {\"y1\": 2.2, \"yref\": \"y\", \"xref\": \"x\", \"line\": {\"width\": 0}, \"x1\": \"2017-01-01 0:04:11\", \"x0\": \"2017-01-01 0:03:05\", \"y0\": 1.8, \"fillcolor\": \"rgb(201, 47, 134)\", \"opacity\": 1, \"type\": \"rect\"}, {\"y1\": 2.2, \"yref\": \"y\", \"xref\": \"x\", \"line\": {\"width\": 0}, \"x1\": \"2017-01-01 0:06:06\", \"x0\": \"2017-01-01 0:05:42\", \"y0\": 1.8, \"fillcolor\": \"rgb(201, 47, 134)\", \"opacity\": 1, \"type\": \"rect\"}, {\"y1\": 2.2, \"yref\": \"y\", \"xref\": \"x\", \"line\": {\"width\": 0}, \"x1\": \"2017-01-01 0:08:30\", \"x0\": \"2017-01-01 0:07:04\", \"y0\": 1.8, \"fillcolor\": \"rgb(72, 250, 123)\", \"opacity\": 1, \"type\": \"rect\"}, {\"y1\": 1.2, \"yref\": \"y\", \"xref\": \"x\", \"line\": {\"width\": 0}, \"x1\": \"2017-01-01 0:02:00\", \"x0\": \"2017-01-01 0:01:03\", \"y0\": 0.8, \"fillcolor\": \"rgb(201, 47, 134)\", \"opacity\": 1, \"type\": \"rect\"}, {\"y1\": 1.2, \"yref\": \"y\", \"xref\": \"x\", \"line\": {\"width\": 0}, \"x1\": \"2017-01-01 0:03:56\", \"x0\": \"2017-01-01 0:03:05\", \"y0\": 0.8, \"fillcolor\": \"rgb(72, 250, 123)\", \"opacity\": 1, \"type\": \"rect\"}, {\"y1\": 1.2, \"yref\": \"y\", \"xref\": \"x\", \"line\": {\"width\": 0}, \"x1\": \"2017-01-01 0:05:48\", \"x0\": \"2017-01-01 0:05:01\", \"y0\": 0.8, \"fillcolor\": \"rgb(225, 8, 121)\", \"opacity\": 1, \"type\": \"rect\"}, {\"y1\": 1.2, \"yref\": \"y\", \"xref\": \"x\", \"line\": {\"width\": 0}, \"x1\": \"2017-01-01 0:07:17\", \"x0\": \"2017-01-01 0:06:23\", \"y0\": 0.8, \"fillcolor\": \"rgb(72, 250, 123)\", \"opacity\": 1, \"type\": \"rect\"}, {\"y1\": 1.2, \"yref\": \"y\", \"xref\": \"x\", \"line\": {\"width\": 0}, \"x1\": \"2017-01-01 0:08:59\", \"x0\": \"2017-01-01 0:08:26\", \"y0\": 0.8, \"fillcolor\": \"rgb(225, 8, 121)\", \"opacity\": 1, \"type\": \"rect\"}, {\"y1\": 0.2, \"yref\": \"y\", \"xref\": \"x\", \"line\": {\"width\": 0}, \"x1\": \"2017-01-01 0:04:58\", \"x0\": \"2017-01-01 0:03:50\", \"y0\": -0.2, \"fillcolor\": \"rgb(145, 243, 59)\", \"opacity\": 1, \"type\": \"rect\"}], \"width\": 900}, {\"linkText\": \"Export to plot.ly\", \"showLink\": true})});</script>"
      ]
     },
     "metadata": {},
     "output_type": "display_data"
    }
   ],
   "source": [
    "uri = params['gantt_machines'] \n",
    "draw_gantt(uri, 'Machines')"
   ]
  },
  {
   "cell_type": "code",
   "execution_count": null,
   "metadata": {},
   "outputs": [],
   "source": []
  }
 ],
 "metadata": {
  "kernelspec": {
   "display_name": "Python 3",
   "language": "python",
   "name": "python3"
  },
  "language_info": {
   "codemirror_mode": {
    "name": "ipython",
    "version": 3
   },
   "file_extension": ".py",
   "mimetype": "text/x-python",
   "name": "python",
   "nbconvert_exporter": "python",
   "pygments_lexer": "ipython3",
   "version": "3.5.2"
  }
 },
 "nbformat": 4,
 "nbformat_minor": 2
}
