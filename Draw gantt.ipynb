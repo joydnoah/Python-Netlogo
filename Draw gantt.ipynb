{
 "cells": [
  {
   "cell_type": "markdown",
   "metadata": {},
   "source": [
    "Configuracion previa de las librerias necesarias."
   ]
  },
  {
   "cell_type": "code",
   "execution_count": null,
   "metadata": {
    "scrolled": true
   },
   "outputs": [],
   "source": [
    "from test_gantt import draw_gantt\n",
    "import argparse\n",
    "import configparser\n",
    "import sys\n",
    "from NetlogoUtils import Python_Netlogo_Connection"
   ]
  },
  {
   "cell_type": "markdown",
   "metadata": {},
   "source": [
    "Configuracion de los parametros del experimento:"
   ]
  },
  {
   "cell_type": "code",
   "execution_count": null,
   "metadata": {
    "scrolled": false
   },
   "outputs": [],
   "source": [
    "params = {\n",
    "    \"client_order_txt\": \"simu_order.txt\",\n",
    "    \"client_product_txt\": \"prod.txt\",\n",
    "    \"dispatch_method\": \"bio\",\n",
    "    \"scenario\": \"scenario AGV\",\n",
    "    \"layout\": \"Partial Flex\",\n",
    "    \"document_uri\": \"C:\\\\Users\\\\user\\\\Desktop\\\\Proyecto sergio\\\\actual\\\\EstudioCodigoL.nlogo\",\n",
    "    \"shuttles\": \"5\",\n",
    "    \"shuttles_selection\": \"AGV\",\n",
    "    \"pot_field_input\": \"[3.3333 100 300 50 0.9 180]\",\n",
    "    \"bio_input\": \"[300 50 1.5 100 0.5]\",\n",
    "    \"GanttM\": \"true\",\n",
    "    \"gantt_shuttles\": \"C:\\\\Users\\\\user\\\\Desktop\\\\Proyecto sergio\\\\actual\\\\shuttle_estudio.txt\",\n",
    "    \"gantt_machines\": \"C:\\\\Users\\\\user\\\\Desktop\\\\Proyecto sergio\\\\actual\\\\trace_estudio.txt\"\n",
    "}"
   ]
  },
  {
   "cell_type": "markdown",
   "metadata": {},
   "source": [
    "Inicio del experimento:"
   ]
  },
  {
   "cell_type": "code",
   "execution_count": null,
   "metadata": {
    "scrolled": true
   },
   "outputs": [],
   "source": [
    "Python_Netlogo_Connection.run_experiment(params)"
   ]
  },
  {
   "cell_type": "markdown",
   "metadata": {},
   "source": [
    "Grafica de Gantt para las maquinas:"
   ]
  },
  {
   "cell_type": "code",
   "execution_count": null,
   "metadata": {
    "scrolled": false
   },
   "outputs": [],
   "source": [
    "uri = params['gantt_shuttles'] \n",
    "draw_gantt(uri, 'Shuttles')"
   ]
  },
  {
   "cell_type": "code",
   "execution_count": null,
   "metadata": {},
   "outputs": [],
   "source": [
    "uri = params['gantt_machines'] \n",
    "draw_gantt(uri, 'Machines')"
   ]
  },
  {
   "cell_type": "code",
   "execution_count": null,
   "metadata": {},
   "outputs": [],
   "source": []
  }
 ],
 "metadata": {
  "kernelspec": {
   "display_name": "Python 3",
   "language": "python",
   "name": "python3"
  },
  "language_info": {
   "codemirror_mode": {
    "name": "ipython",
    "version": 3
   },
   "file_extension": ".py",
   "mimetype": "text/x-python",
   "name": "python",
   "nbconvert_exporter": "python",
   "pygments_lexer": "ipython3",
   "version": "3.5.2"
  }
 },
 "nbformat": 4,
 "nbformat_minor": 2
}
